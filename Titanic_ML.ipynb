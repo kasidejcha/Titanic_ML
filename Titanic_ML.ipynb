{
  "nbformat": 4,
  "nbformat_minor": 0,
  "metadata": {
    "colab": {
      "name": "Titanic_ML.ipynb",
      "provenance": [],
      "toc_visible": true,
      "history_visible": true,
      "authorship_tag": "ABX9TyPygyxm4M56ftJHYc7l5uEt",
      "include_colab_link": true
    },
    "kernelspec": {
      "name": "python3",
      "display_name": "Python 3"
    },
    "language_info": {
      "name": "python"
    },
    "accelerator": "GPU"
  },
  "cells": [
    {
      "cell_type": "markdown",
      "metadata": {
        "id": "view-in-github",
        "colab_type": "text"
      },
      "source": [
        "<a href=\"https://colab.research.google.com/github/kasidejcha/titanic_ML/blob/main/Titanic_ML.ipynb\" target=\"_parent\"><img src=\"https://colab.research.google.com/assets/colab-badge.svg\" alt=\"Open In Colab\"/></a>"
      ]
    },
    {
      "cell_type": "code",
      "metadata": {
        "id": "jnt8Dmbjq5OC"
      },
      "source": [
        "#!pip install catboost"
      ],
      "execution_count": 143,
      "outputs": []
    },
    {
      "cell_type": "code",
      "metadata": {
        "id": "fHDZlozI8Og0",
        "colab": {
          "base_uri": "https://localhost:8080/"
        },
        "outputId": "65d1aba8-3d3d-4f9b-d4a6-8e02cade5e08"
      },
      "source": [
        "import pandas as pd\n",
        "import csv\n",
        "import numpy as np\n",
        "import seaborn as sns\n",
        "from  scipy.stats import skew, kurtosis, shapiro\n",
        "from statistics import mean\n",
        "from math import sqrt\n",
        "from matplotlib.pyplot import figure\n",
        "import time, datetime\n",
        "import matplotlib.pyplot as plt\n",
        "\n",
        "from sklearn import model_selection, tree, preprocessing, metrics, linear_model\n",
        "from sklearn.neighbors import KNeighborsClassifier\n",
        "from sklearn.model_selection import GridSearchCV\n",
        "from sklearn.model_selection import cross_val_score\n",
        "from sklearn.linear_model import LinearRegression, LogisticRegression, SGDClassifier\n",
        "from sklearn.tree import DecisionTreeClassifier\n",
        "from sklearn.ensemble import RandomForestClassifier\n",
        "from sklearn.ensemble import GradientBoostingClassifier\n",
        "from catboost import CatBoostClassifier, Pool, cv\n",
        "from sklearn.externals import joblib"
      ],
      "execution_count": 197,
      "outputs": [
        {
          "output_type": "stream",
          "text": [
            "/usr/local/lib/python3.7/dist-packages/sklearn/externals/joblib/__init__.py:15: FutureWarning: sklearn.externals.joblib is deprecated in 0.21 and will be removed in 0.23. Please import this functionality directly from joblib, which can be installed with: pip install joblib. If this warning is raised when loading pickled models, you may need to re-serialize those models with scikit-learn 0.21+.\n",
            "  warnings.warn(msg, category=FutureWarning)\n"
          ],
          "name": "stderr"
        }
      ]
    },
    {
      "cell_type": "code",
      "metadata": {
        "colab": {
          "base_uri": "https://localhost:8080/"
        },
        "id": "RHEaSkzx69Uv",
        "outputId": "1a466d78-7633-4b5a-d29c-1842ed2b09fa"
      },
      "source": [
        "from google.colab import drive\n",
        "drive.mount(\"/content/drive\")"
      ],
      "execution_count": 145,
      "outputs": [
        {
          "output_type": "stream",
          "text": [
            "Drive already mounted at /content/drive; to attempt to forcibly remount, call drive.mount(\"/content/drive\", force_remount=True).\n"
          ],
          "name": "stdout"
        }
      ]
    },
    {
      "cell_type": "markdown",
      "metadata": {
        "id": "CXRq06d4InhM"
      },
      "source": [
        "# Overall Explore"
      ]
    },
    {
      "cell_type": "code",
      "metadata": {
        "colab": {
          "base_uri": "https://localhost:8080/",
          "height": 247
        },
        "id": "rCG6xh3V8a2T",
        "outputId": "647af93e-f7c8-46a2-a1a6-deb7dff80b64"
      },
      "source": [
        "train = pd.read_csv('/content/drive/My Drive/personal_project/titanic/train.csv')\n",
        "test = pd.read_csv('/content/drive/My Drive/personal_project/titanic/test.csv')\n",
        "gen_sub = pd.read_csv('/content/drive/My Drive/personal_project/titanic/gender_submission.csv')\n",
        "train.head()"
      ],
      "execution_count": 146,
      "outputs": [
        {
          "output_type": "execute_result",
          "data": {
            "text/html": [
              "<div>\n",
              "<style scoped>\n",
              "    .dataframe tbody tr th:only-of-type {\n",
              "        vertical-align: middle;\n",
              "    }\n",
              "\n",
              "    .dataframe tbody tr th {\n",
              "        vertical-align: top;\n",
              "    }\n",
              "\n",
              "    .dataframe thead th {\n",
              "        text-align: right;\n",
              "    }\n",
              "</style>\n",
              "<table border=\"1\" class=\"dataframe\">\n",
              "  <thead>\n",
              "    <tr style=\"text-align: right;\">\n",
              "      <th></th>\n",
              "      <th>PassengerId</th>\n",
              "      <th>Survived</th>\n",
              "      <th>Pclass</th>\n",
              "      <th>Name</th>\n",
              "      <th>Sex</th>\n",
              "      <th>Age</th>\n",
              "      <th>SibSp</th>\n",
              "      <th>Parch</th>\n",
              "      <th>Ticket</th>\n",
              "      <th>Fare</th>\n",
              "      <th>Cabin</th>\n",
              "      <th>Embarked</th>\n",
              "    </tr>\n",
              "  </thead>\n",
              "  <tbody>\n",
              "    <tr>\n",
              "      <th>0</th>\n",
              "      <td>1</td>\n",
              "      <td>0</td>\n",
              "      <td>3</td>\n",
              "      <td>Braund, Mr. Owen Harris</td>\n",
              "      <td>male</td>\n",
              "      <td>22.0</td>\n",
              "      <td>1</td>\n",
              "      <td>0</td>\n",
              "      <td>A/5 21171</td>\n",
              "      <td>7.2500</td>\n",
              "      <td>NaN</td>\n",
              "      <td>S</td>\n",
              "    </tr>\n",
              "    <tr>\n",
              "      <th>1</th>\n",
              "      <td>2</td>\n",
              "      <td>1</td>\n",
              "      <td>1</td>\n",
              "      <td>Cumings, Mrs. John Bradley (Florence Briggs Th...</td>\n",
              "      <td>female</td>\n",
              "      <td>38.0</td>\n",
              "      <td>1</td>\n",
              "      <td>0</td>\n",
              "      <td>PC 17599</td>\n",
              "      <td>71.2833</td>\n",
              "      <td>C85</td>\n",
              "      <td>C</td>\n",
              "    </tr>\n",
              "    <tr>\n",
              "      <th>2</th>\n",
              "      <td>3</td>\n",
              "      <td>1</td>\n",
              "      <td>3</td>\n",
              "      <td>Heikkinen, Miss. Laina</td>\n",
              "      <td>female</td>\n",
              "      <td>26.0</td>\n",
              "      <td>0</td>\n",
              "      <td>0</td>\n",
              "      <td>STON/O2. 3101282</td>\n",
              "      <td>7.9250</td>\n",
              "      <td>NaN</td>\n",
              "      <td>S</td>\n",
              "    </tr>\n",
              "    <tr>\n",
              "      <th>3</th>\n",
              "      <td>4</td>\n",
              "      <td>1</td>\n",
              "      <td>1</td>\n",
              "      <td>Futrelle, Mrs. Jacques Heath (Lily May Peel)</td>\n",
              "      <td>female</td>\n",
              "      <td>35.0</td>\n",
              "      <td>1</td>\n",
              "      <td>0</td>\n",
              "      <td>113803</td>\n",
              "      <td>53.1000</td>\n",
              "      <td>C123</td>\n",
              "      <td>S</td>\n",
              "    </tr>\n",
              "    <tr>\n",
              "      <th>4</th>\n",
              "      <td>5</td>\n",
              "      <td>0</td>\n",
              "      <td>3</td>\n",
              "      <td>Allen, Mr. William Henry</td>\n",
              "      <td>male</td>\n",
              "      <td>35.0</td>\n",
              "      <td>0</td>\n",
              "      <td>0</td>\n",
              "      <td>373450</td>\n",
              "      <td>8.0500</td>\n",
              "      <td>NaN</td>\n",
              "      <td>S</td>\n",
              "    </tr>\n",
              "  </tbody>\n",
              "</table>\n",
              "</div>"
            ],
            "text/plain": [
              "   PassengerId  Survived  Pclass  ...     Fare Cabin  Embarked\n",
              "0            1         0       3  ...   7.2500   NaN         S\n",
              "1            2         1       1  ...  71.2833   C85         C\n",
              "2            3         1       3  ...   7.9250   NaN         S\n",
              "3            4         1       1  ...  53.1000  C123         S\n",
              "4            5         0       3  ...   8.0500   NaN         S\n",
              "\n",
              "[5 rows x 12 columns]"
            ]
          },
          "metadata": {
            "tags": []
          },
          "execution_count": 146
        }
      ]
    },
    {
      "cell_type": "code",
      "metadata": {
        "colab": {
          "base_uri": "https://localhost:8080/",
          "height": 287
        },
        "id": "wPzD28kE_IxW",
        "outputId": "523cf279-1490-46f6-842f-322af9255852"
      },
      "source": [
        "train.describe()"
      ],
      "execution_count": 147,
      "outputs": [
        {
          "output_type": "execute_result",
          "data": {
            "text/html": [
              "<div>\n",
              "<style scoped>\n",
              "    .dataframe tbody tr th:only-of-type {\n",
              "        vertical-align: middle;\n",
              "    }\n",
              "\n",
              "    .dataframe tbody tr th {\n",
              "        vertical-align: top;\n",
              "    }\n",
              "\n",
              "    .dataframe thead th {\n",
              "        text-align: right;\n",
              "    }\n",
              "</style>\n",
              "<table border=\"1\" class=\"dataframe\">\n",
              "  <thead>\n",
              "    <tr style=\"text-align: right;\">\n",
              "      <th></th>\n",
              "      <th>PassengerId</th>\n",
              "      <th>Survived</th>\n",
              "      <th>Pclass</th>\n",
              "      <th>Age</th>\n",
              "      <th>SibSp</th>\n",
              "      <th>Parch</th>\n",
              "      <th>Fare</th>\n",
              "    </tr>\n",
              "  </thead>\n",
              "  <tbody>\n",
              "    <tr>\n",
              "      <th>count</th>\n",
              "      <td>891.000000</td>\n",
              "      <td>891.000000</td>\n",
              "      <td>891.000000</td>\n",
              "      <td>714.000000</td>\n",
              "      <td>891.000000</td>\n",
              "      <td>891.000000</td>\n",
              "      <td>891.000000</td>\n",
              "    </tr>\n",
              "    <tr>\n",
              "      <th>mean</th>\n",
              "      <td>446.000000</td>\n",
              "      <td>0.383838</td>\n",
              "      <td>2.308642</td>\n",
              "      <td>29.699118</td>\n",
              "      <td>0.523008</td>\n",
              "      <td>0.381594</td>\n",
              "      <td>32.204208</td>\n",
              "    </tr>\n",
              "    <tr>\n",
              "      <th>std</th>\n",
              "      <td>257.353842</td>\n",
              "      <td>0.486592</td>\n",
              "      <td>0.836071</td>\n",
              "      <td>14.526497</td>\n",
              "      <td>1.102743</td>\n",
              "      <td>0.806057</td>\n",
              "      <td>49.693429</td>\n",
              "    </tr>\n",
              "    <tr>\n",
              "      <th>min</th>\n",
              "      <td>1.000000</td>\n",
              "      <td>0.000000</td>\n",
              "      <td>1.000000</td>\n",
              "      <td>0.420000</td>\n",
              "      <td>0.000000</td>\n",
              "      <td>0.000000</td>\n",
              "      <td>0.000000</td>\n",
              "    </tr>\n",
              "    <tr>\n",
              "      <th>25%</th>\n",
              "      <td>223.500000</td>\n",
              "      <td>0.000000</td>\n",
              "      <td>2.000000</td>\n",
              "      <td>20.125000</td>\n",
              "      <td>0.000000</td>\n",
              "      <td>0.000000</td>\n",
              "      <td>7.910400</td>\n",
              "    </tr>\n",
              "    <tr>\n",
              "      <th>50%</th>\n",
              "      <td>446.000000</td>\n",
              "      <td>0.000000</td>\n",
              "      <td>3.000000</td>\n",
              "      <td>28.000000</td>\n",
              "      <td>0.000000</td>\n",
              "      <td>0.000000</td>\n",
              "      <td>14.454200</td>\n",
              "    </tr>\n",
              "    <tr>\n",
              "      <th>75%</th>\n",
              "      <td>668.500000</td>\n",
              "      <td>1.000000</td>\n",
              "      <td>3.000000</td>\n",
              "      <td>38.000000</td>\n",
              "      <td>1.000000</td>\n",
              "      <td>0.000000</td>\n",
              "      <td>31.000000</td>\n",
              "    </tr>\n",
              "    <tr>\n",
              "      <th>max</th>\n",
              "      <td>891.000000</td>\n",
              "      <td>1.000000</td>\n",
              "      <td>3.000000</td>\n",
              "      <td>80.000000</td>\n",
              "      <td>8.000000</td>\n",
              "      <td>6.000000</td>\n",
              "      <td>512.329200</td>\n",
              "    </tr>\n",
              "  </tbody>\n",
              "</table>\n",
              "</div>"
            ],
            "text/plain": [
              "       PassengerId    Survived      Pclass  ...       SibSp       Parch        Fare\n",
              "count   891.000000  891.000000  891.000000  ...  891.000000  891.000000  891.000000\n",
              "mean    446.000000    0.383838    2.308642  ...    0.523008    0.381594   32.204208\n",
              "std     257.353842    0.486592    0.836071  ...    1.102743    0.806057   49.693429\n",
              "min       1.000000    0.000000    1.000000  ...    0.000000    0.000000    0.000000\n",
              "25%     223.500000    0.000000    2.000000  ...    0.000000    0.000000    7.910400\n",
              "50%     446.000000    0.000000    3.000000  ...    0.000000    0.000000   14.454200\n",
              "75%     668.500000    1.000000    3.000000  ...    1.000000    0.000000   31.000000\n",
              "max     891.000000    1.000000    3.000000  ...    8.000000    6.000000  512.329200\n",
              "\n",
              "[8 rows x 7 columns]"
            ]
          },
          "metadata": {
            "tags": []
          },
          "execution_count": 147
        }
      ]
    },
    {
      "cell_type": "code",
      "metadata": {
        "colab": {
          "base_uri": "https://localhost:8080/"
        },
        "id": "qzL1EIQV-iOz",
        "outputId": "5ba5b5f8-fe9e-49a4-e57b-1e263dda0816"
      },
      "source": [
        "train.isnull().sum()"
      ],
      "execution_count": 148,
      "outputs": [
        {
          "output_type": "execute_result",
          "data": {
            "text/plain": [
              "PassengerId      0\n",
              "Survived         0\n",
              "Pclass           0\n",
              "Name             0\n",
              "Sex              0\n",
              "Age            177\n",
              "SibSp            0\n",
              "Parch            0\n",
              "Ticket           0\n",
              "Fare             0\n",
              "Cabin          687\n",
              "Embarked         2\n",
              "dtype: int64"
            ]
          },
          "metadata": {
            "tags": []
          },
          "execution_count": 148
        }
      ]
    },
    {
      "cell_type": "code",
      "metadata": {
        "colab": {
          "base_uri": "https://localhost:8080/"
        },
        "id": "QjvddVM--1S1",
        "outputId": "a96752cd-4450-46c7-93ac-3a8da58ffc69"
      },
      "source": [
        "train.shape"
      ],
      "execution_count": 149,
      "outputs": [
        {
          "output_type": "execute_result",
          "data": {
            "text/plain": [
              "(891, 12)"
            ]
          },
          "metadata": {
            "tags": []
          },
          "execution_count": 149
        }
      ]
    },
    {
      "cell_type": "code",
      "metadata": {
        "colab": {
          "base_uri": "https://localhost:8080/"
        },
        "id": "4k9LswzsW-38",
        "outputId": "9c1a9343-26d5-4f90-f122-f13762ef1baf"
      },
      "source": [
        "train.dtypes"
      ],
      "execution_count": 150,
      "outputs": [
        {
          "output_type": "execute_result",
          "data": {
            "text/plain": [
              "PassengerId      int64\n",
              "Survived         int64\n",
              "Pclass           int64\n",
              "Name            object\n",
              "Sex             object\n",
              "Age            float64\n",
              "SibSp            int64\n",
              "Parch            int64\n",
              "Ticket          object\n",
              "Fare           float64\n",
              "Cabin           object\n",
              "Embarked        object\n",
              "dtype: object"
            ]
          },
          "metadata": {
            "tags": []
          },
          "execution_count": 150
        }
      ]
    },
    {
      "cell_type": "markdown",
      "metadata": {
        "id": "cZF46HgqIuk0"
      },
      "source": [
        "# Exploration Data Analysis(EDA)\n",
        "\n",
        "Feature Exploration"
      ]
    },
    {
      "cell_type": "markdown",
      "metadata": {
        "id": "XVNXGmsiI1EW"
      },
      "source": [
        "**Survived**\n",
        "\n",
        "0 = did not survive\n",
        "\n",
        "1 = survived\n",
        "\n",
        "\n",
        "\n",
        "\n"
      ]
    },
    {
      "cell_type": "code",
      "metadata": {
        "colab": {
          "base_uri": "https://localhost:8080/",
          "height": 160
        },
        "id": "-nvPjNMWI9d-",
        "outputId": "86b4713a-da36-4b6f-a816-e092cb569416"
      },
      "source": [
        "# How many people survived?\n",
        "fig = plt.figure(figsize=(20,1))\n",
        "sns.countplot(data=train, y='Survived');\n",
        "print(train.Survived.value_counts())"
      ],
      "execution_count": 151,
      "outputs": [
        {
          "output_type": "stream",
          "text": [
            "0    549\n",
            "1    342\n",
            "Name: Survived, dtype: int64\n"
          ],
          "name": "stdout"
        },
        {
          "output_type": "display_data",
          "data": {
            "image/png": "[encoded data removed]",
            "text/plain": [
              "<Figure size 1440x72 with 1 Axes>"
            ]
          },
          "metadata": {
            "tags": [],
            "needs_background": "light"
          }
        }
      ]
    },
    {
      "cell_type": "markdown",
      "metadata": {
        "id": "Nr7Ka6W_J12t"
      },
      "source": [
        "**Pclass**\n",
        "\n",
        "Ticket class\n",
        "\n",
        "1 = 1st, 2 = 2nd, 3 = 3rd\n",
        "\n"
      ]
    },
    {
      "cell_type": "code",
      "metadata": {
        "colab": {
          "base_uri": "https://localhost:8080/",
          "height": 177
        },
        "id": "GiVzakf3J3YM",
        "outputId": "1aa3f1ed-635e-4fad-f18f-211c1104b247"
      },
      "source": [
        "fig = plt.figure(figsize=(20,1))\n",
        "sns.countplot(data=train, y='Pclass');\n",
        "print(train.Pclass.value_counts())"
      ],
      "execution_count": 152,
      "outputs": [
        {
          "output_type": "stream",
          "text": [
            "3    491\n",
            "1    216\n",
            "2    184\n",
            "Name: Pclass, dtype: int64\n"
          ],
          "name": "stdout"
        },
        {
          "output_type": "display_data",
          "data": {
            "image/png": "[encoded data removed]",
            "text/plain": [
              "<Figure size 1440x72 with 1 Axes>"
            ]
          },
          "metadata": {
            "tags": [],
            "needs_background": "light"
          }
        }
      ]
    },
    {
      "cell_type": "markdown",
      "metadata": {
        "id": "iATzoesxKrUN"
      },
      "source": [
        "**Name**"
      ]
    },
    {
      "cell_type": "code",
      "metadata": {
        "colab": {
          "base_uri": "https://localhost:8080/"
        },
        "id": "NcPCQTlhKsE9",
        "outputId": "dc97f59f-cc37-45ff-bebf-2c6a8cb5ad45"
      },
      "source": [
        "train.Name.value_counts()"
      ],
      "execution_count": 153,
      "outputs": [
        {
          "output_type": "execute_result",
          "data": {
            "text/plain": [
              "Backstrom, Mr. Karl Alfred                             1\n",
              "Farrell, Mr. James                                     1\n",
              "Cumings, Mrs. John Bradley (Florence Briggs Thayer)    1\n",
              "Hagland, Mr. Konrad Mathias Reiersen                   1\n",
              "Edvardsson, Mr. Gustaf Hjalmar                         1\n",
              "                                                      ..\n",
              "Coutts, Master. Eden Leslie \"Neville\"                  1\n",
              "Knight, Mr. Robert J                                   1\n",
              "de Pelsmaeker, Mr. Alfons                              1\n",
              "Jonkoff, Mr. Lalio                                     1\n",
              "Andersson, Mr. Anders Johan                            1\n",
              "Name: Name, Length: 891, dtype: int64"
            ]
          },
          "metadata": {
            "tags": []
          },
          "execution_count": 153
        }
      ]
    },
    {
      "cell_type": "markdown",
      "metadata": {
        "id": "-ZftrYHwLMJK"
      },
      "source": [
        "**Sex**"
      ]
    },
    {
      "cell_type": "code",
      "metadata": {
        "colab": {
          "base_uri": "https://localhost:8080/",
          "height": 157
        },
        "id": "OAo33VPgLNN7",
        "outputId": "f151d904-f70f-432d-ce22-94652206f64e"
      },
      "source": [
        "fig = plt.figure(figsize=(20,1))\n",
        "sns.countplot(data=train, y='Sex');\n",
        "print(train.Sex.value_counts())"
      ],
      "execution_count": 154,
      "outputs": [
        {
          "output_type": "stream",
          "text": [
            "male      577\n",
            "female    314\n",
            "Name: Sex, dtype: int64\n"
          ],
          "name": "stdout"
        },
        {
          "output_type": "display_data",
          "data": {
            "image/png": "[encoded data removed]",
            "text/plain": [
              "<Figure size 1440x72 with 1 Axes>"
            ]
          },
          "metadata": {
            "tags": [],
            "needs_background": "light"
          }
        }
      ]
    },
    {
      "cell_type": "code",
      "metadata": {
        "colab": {
          "base_uri": "https://localhost:8080/",
          "height": 346
        },
        "id": "1ROVd5HtLk0A",
        "outputId": "d1bf89b8-e7cd-4e04-9027-56485016160d"
      },
      "source": [
        "# male survived\n",
        "m_sur = train[train.Sex.str.contains('male') & train.Survived==1]\n",
        "# male did not survive\n",
        "m_die = train[train.Sex.str.contains('male') & train.Survived==0]\n",
        "# female survived\n",
        "fm_sur = train[train.Sex.str.contains('female') & train.Survived==1]\n",
        "# female did not survive\n",
        "fm_die = train[train.Sex.str.contains('female') & train.Survived==0]\n",
        "\n",
        "surdie = {'survived': [len(m_sur),len(fm_sur)], 'die': [len(m_die),len(fm_die)]}\n",
        "sex_surdie = pd.DataFrame(surdie,index=['male','female'])\n",
        "print(sex_surdie)\n",
        "axes = sex_surdie.plot.bar(rot=0)"
      ],
      "execution_count": 155,
      "outputs": [
        {
          "output_type": "stream",
          "text": [
            "        survived  die\n",
            "male         342  549\n",
            "female       233  658\n"
          ],
          "name": "stdout"
        },
        {
          "output_type": "display_data",
          "data": {
            "image/png": "[encoded data removed]",
            "text/plain": [
              "<Figure size 1080x324 with 1 Axes>"
            ]
          },
          "metadata": {
            "tags": [],
            "needs_background": "light"
          }
        }
      ]
    },
    {
      "cell_type": "markdown",
      "metadata": {
        "id": "b_PeWlPpI8c2"
      },
      "source": [
        "**Age**"
      ]
    },
    {
      "cell_type": "code",
      "metadata": {
        "colab": {
          "base_uri": "https://localhost:8080/",
          "height": 396
        },
        "id": "IoVYM4uu_7gp",
        "outputId": "d40d2ecb-6690-4a14-c2d2-9db7adfd02c3"
      },
      "source": [
        "# Plot Age Distribution\n",
        "\n",
        "plt.rcParams['axes.unicode_minus']=False\n",
        "plt.rcParams['figure.figsize'] = (15.0, 4.5) # set the size of figure\n",
        "plt.subplot(facecolor = \"whitesmoke\") # set the background color\n",
        "\n",
        "sns.distplot(train['Age'],color='g')\n",
        "\n",
        "plt.title(\"Data Distribution\")\n",
        "plt.xlabel(\"Adj Close\")\n",
        "\n",
        "mean = np.mean(train['Age'])\n",
        "std = np.std(train['Age'])\n",
        "plt.axvline(x=mean, color='r', linestyle='-', label=\"mu: {0:.2f}%\".format(mean))\n",
        "plt.axvline(x=mean+2*std, color='orange', linestyle='-')\n",
        "plt.axvline(x=mean-2*std, color='orange', linestyle='-')\n",
        "plt.grid(color=\"k\", linestyle=\":\") # set grid and line shape\n",
        "plt.legend()\n",
        "plt.show()\n",
        "print('Age mode: ', train['Age'].mode()[0])"
      ],
      "execution_count": 156,
      "outputs": [
        {
          "output_type": "stream",
          "text": [
            "/usr/local/lib/python3.7/dist-packages/seaborn/distributions.py:2557: FutureWarning: `distplot` is a deprecated function and will be removed in a future version. Please adapt your code to use either `displot` (a figure-level function with similar flexibility) or `histplot` (an axes-level function for histograms).\n",
            "  warnings.warn(msg, FutureWarning)\n"
          ],
          "name": "stderr"
        },
        {
          "output_type": "display_data",
          "data": {
            "image/png": "[encoded data removed]",
            "text/plain": [
              "<Figure size 1080x324 with 1 Axes>"
            ]
          },
          "metadata": {
            "tags": [],
            "needs_background": "light"
          }
        },
        {
          "output_type": "stream",
          "text": [
            "Age mode:  24.0\n"
          ],
          "name": "stdout"
        }
      ]
    },
    {
      "cell_type": "markdown",
      "metadata": {
        "id": "yWosgN29QkB5"
      },
      "source": [
        "**SibSp**\n",
        "\n",
        "number of siblings / spouses aboard the Titanic\n",
        "\n"
      ]
    },
    {
      "cell_type": "code",
      "metadata": {
        "colab": {
          "base_uri": "https://localhost:8080/",
          "height": 522
        },
        "id": "Y8M2QkaFQoex",
        "outputId": "5da90113-d5a7-4a6a-f15a-e64bdf7efb02"
      },
      "source": [
        "print(train.SibSp.value_counts())\n",
        "\n",
        "sns.countplot(train['SibSp'])"
      ],
      "execution_count": 157,
      "outputs": [
        {
          "output_type": "stream",
          "text": [
            "0    608\n",
            "1    209\n",
            "2     28\n",
            "4     18\n",
            "3     16\n",
            "8      7\n",
            "5      5\n",
            "Name: SibSp, dtype: int64\n"
          ],
          "name": "stdout"
        },
        {
          "output_type": "stream",
          "text": [
            "/usr/local/lib/python3.7/dist-packages/seaborn/_decorators.py:43: FutureWarning: Pass the following variable as a keyword arg: x. From version 0.12, the only valid positional argument will be `data`, and passing other arguments without an explicit keyword will result in an error or misinterpretation.\n",
            "  FutureWarning\n"
          ],
          "name": "stderr"
        },
        {
          "output_type": "execute_result",
          "data": {
            "text/plain": [
              "<matplotlib.axes._subplots.AxesSubplot at 0x7f0b934ff850>"
            ]
          },
          "metadata": {
            "tags": []
          },
          "execution_count": 157
        },
        {
          "output_type": "display_data",
          "data": {
            "image/png": "[encoded data removed]",
            "text/plain": [
              "<Figure size 1080x324 with 1 Axes>"
            ]
          },
          "metadata": {
            "tags": [],
            "needs_background": "light"
          }
        }
      ]
    },
    {
      "cell_type": "code",
      "metadata": {
        "colab": {
          "base_uri": "https://localhost:8080/",
          "height": 606
        },
        "id": "SO5OJHbeRrd_",
        "outputId": "69217e82-8e3d-4d90-cba2-07c440881d38"
      },
      "source": [
        "fig = plt.figure(figsize=(12, 7))\n",
        "sns.distplot(train.loc[train['Survived'] == 1]['SibSp'], \n",
        "              kde_kws={\"label\": \"Survived\"}, color='g');\n",
        "sns.distplot(train.loc[train['Survived'] == 0]['SibSp'], \n",
        "              kde_kws={\"label\": \"Did not survive\"}, color='r');\n",
        "fig.legend(labels=['Survived','Did not survive'])"
      ],
      "execution_count": 158,
      "outputs": [
        {
          "output_type": "stream",
          "text": [
            "/usr/local/lib/python3.7/dist-packages/seaborn/distributions.py:2557: FutureWarning: `distplot` is a deprecated function and will be removed in a future version. Please adapt your code to use either `displot` (a figure-level function with similar flexibility) or `histplot` (an axes-level function for histograms).\n",
            "  warnings.warn(msg, FutureWarning)\n",
            "/usr/local/lib/python3.7/dist-packages/seaborn/distributions.py:2557: FutureWarning: `distplot` is a deprecated function and will be removed in a future version. Please adapt your code to use either `displot` (a figure-level function with similar flexibility) or `histplot` (an axes-level function for histograms).\n",
            "  warnings.warn(msg, FutureWarning)\n"
          ],
          "name": "stderr"
        },
        {
          "output_type": "execute_result",
          "data": {
            "text/plain": [
              "<matplotlib.legend.Legend at 0x7f0b93aee5d0>"
            ]
          },
          "metadata": {
            "tags": []
          },
          "execution_count": 158
        },
        {
          "output_type": "display_data",
          "data": {
            "image/png": "[encoded data removed]",
            "text/plain": [
              "<Figure size 864x504 with 1 Axes>"
            ]
          },
          "metadata": {
            "tags": [],
            "needs_background": "light"
          }
        }
      ]
    },
    {
      "cell_type": "markdown",
      "metadata": {
        "id": "RmnTTKZhUgVg"
      },
      "source": [
        "**Parch**\n",
        "\n",
        "number of parents / children aboard the Titanic"
      ]
    },
    {
      "cell_type": "code",
      "metadata": {
        "colab": {
          "base_uri": "https://localhost:8080/"
        },
        "id": "wK3EFPGEVA0i",
        "outputId": "4a820cd8-a65d-4805-8110-786cadd8c17b"
      },
      "source": [
        "print(train.Parch.value_counts())"
      ],
      "execution_count": 159,
      "outputs": [
        {
          "output_type": "stream",
          "text": [
            "0    678\n",
            "1    118\n",
            "2     80\n",
            "5      5\n",
            "3      5\n",
            "4      4\n",
            "6      1\n",
            "Name: Parch, dtype: int64\n"
          ],
          "name": "stdout"
        }
      ]
    },
    {
      "cell_type": "code",
      "metadata": {
        "colab": {
          "base_uri": "https://localhost:8080/",
          "height": 606
        },
        "id": "QjnnnC_4Ug9N",
        "outputId": "e598ae4b-fd29-4544-dcea-f52acca37bba"
      },
      "source": [
        "fig = plt.figure(figsize=(12, 7))\n",
        "sns.distplot(train.loc[train['Survived'] == 1]['Parch'], \n",
        "              kde_kws={\"label\": \"Survived\"}, color='g');\n",
        "sns.distplot(train.loc[train['Survived'] == 0]['Parch'], \n",
        "              kde_kws={\"label\": \"Did not survive\"}, color='r');\n",
        "fig.legend(labels=['Survived','Did not survive'])"
      ],
      "execution_count": 160,
      "outputs": [
        {
          "output_type": "stream",
          "text": [
            "/usr/local/lib/python3.7/dist-packages/seaborn/distributions.py:2557: FutureWarning: `distplot` is a deprecated function and will be removed in a future version. Please adapt your code to use either `displot` (a figure-level function with similar flexibility) or `histplot` (an axes-level function for histograms).\n",
            "  warnings.warn(msg, FutureWarning)\n",
            "/usr/local/lib/python3.7/dist-packages/seaborn/distributions.py:2557: FutureWarning: `distplot` is a deprecated function and will be removed in a future version. Please adapt your code to use either `displot` (a figure-level function with similar flexibility) or `histplot` (an axes-level function for histograms).\n",
            "  warnings.warn(msg, FutureWarning)\n"
          ],
          "name": "stderr"
        },
        {
          "output_type": "execute_result",
          "data": {
            "text/plain": [
              "<matplotlib.legend.Legend at 0x7f0b93555ad0>"
            ]
          },
          "metadata": {
            "tags": []
          },
          "execution_count": 160
        },
        {
          "output_type": "display_data",
          "data": {
            "image/png": "[encoded data removed]",
            "text/plain": [
              "<Figure size 864x504 with 1 Axes>"
            ]
          },
          "metadata": {
            "tags": [],
            "needs_background": "light"
          }
        }
      ]
    },
    {
      "cell_type": "markdown",
      "metadata": {
        "id": "Cy60q_-DVfKa"
      },
      "source": [
        "**Ticket**"
      ]
    },
    {
      "cell_type": "code",
      "metadata": {
        "colab": {
          "base_uri": "https://localhost:8080/"
        },
        "id": "Eg5i-wgsVhgx",
        "outputId": "ff382c09-2e7a-4ac5-d8cc-77561f22254d"
      },
      "source": [
        "train.Ticket.value_counts()"
      ],
      "execution_count": 161,
      "outputs": [
        {
          "output_type": "execute_result",
          "data": {
            "text/plain": [
              "CA. 2343      7\n",
              "1601          7\n",
              "347082        7\n",
              "347088        6\n",
              "3101295       6\n",
              "             ..\n",
              "345767        1\n",
              "29751         1\n",
              "C.A. 24580    1\n",
              "11813         1\n",
              "350407        1\n",
              "Name: Ticket, Length: 681, dtype: int64"
            ]
          },
          "metadata": {
            "tags": []
          },
          "execution_count": 161
        }
      ]
    },
    {
      "cell_type": "markdown",
      "metadata": {
        "id": "-xMiHk3LWYNS"
      },
      "source": [
        "**Fare**"
      ]
    },
    {
      "cell_type": "code",
      "metadata": {
        "colab": {
          "base_uri": "https://localhost:8080/"
        },
        "id": "qEdHegEqWW4O",
        "outputId": "c7cf216e-d84a-4c4d-87d4-11ac4a7872f8"
      },
      "source": [
        "train.Fare.value_counts()"
      ],
      "execution_count": 162,
      "outputs": [
        {
          "output_type": "execute_result",
          "data": {
            "text/plain": [
              "8.0500     43\n",
              "13.0000    42\n",
              "7.8958     38\n",
              "7.7500     34\n",
              "26.0000    31\n",
              "           ..\n",
              "8.4583      1\n",
              "9.8375      1\n",
              "8.3625      1\n",
              "14.1083     1\n",
              "17.4000     1\n",
              "Name: Fare, Length: 248, dtype: int64"
            ]
          },
          "metadata": {
            "tags": []
          },
          "execution_count": 162
        }
      ]
    },
    {
      "cell_type": "code",
      "metadata": {
        "colab": {
          "base_uri": "https://localhost:8080/",
          "height": 380
        },
        "id": "CkHeEHXYWcz6",
        "outputId": "c85a6e1d-4856-4616-f867-677c5fc044a7"
      },
      "source": [
        "sns.distplot(train.Fare)"
      ],
      "execution_count": 163,
      "outputs": [
        {
          "output_type": "stream",
          "text": [
            "/usr/local/lib/python3.7/dist-packages/seaborn/distributions.py:2557: FutureWarning: `distplot` is a deprecated function and will be removed in a future version. Please adapt your code to use either `displot` (a figure-level function with similar flexibility) or `histplot` (an axes-level function for histograms).\n",
            "  warnings.warn(msg, FutureWarning)\n"
          ],
          "name": "stderr"
        },
        {
          "output_type": "execute_result",
          "data": {
            "text/plain": [
              "<matplotlib.axes._subplots.AxesSubplot at 0x7f0b934c2a90>"
            ]
          },
          "metadata": {
            "tags": []
          },
          "execution_count": 163
        },
        {
          "output_type": "display_data",
          "data": {
            "image/png": "[encoded data removed]",
            "text/plain": [
              "<Figure size 1080x324 with 1 Axes>"
            ]
          },
          "metadata": {
            "tags": [],
            "needs_background": "light"
          }
        }
      ]
    },
    {
      "cell_type": "markdown",
      "metadata": {
        "id": "tvlNr38LZkdF"
      },
      "source": [
        "**Cabin**"
      ]
    },
    {
      "cell_type": "code",
      "metadata": {
        "colab": {
          "base_uri": "https://localhost:8080/"
        },
        "id": "LNTqvWkIZmH3",
        "outputId": "9c5559a6-3f09-4d9c-d101-76208fbbe003"
      },
      "source": [
        "print(train.Cabin.value_counts())\n",
        "print('')\n",
        "print('Number of NaN: ',train.Cabin.isnull().sum())"
      ],
      "execution_count": 164,
      "outputs": [
        {
          "output_type": "stream",
          "text": [
            "B96 B98        4\n",
            "G6             4\n",
            "C23 C25 C27    4\n",
            "F33            3\n",
            "C22 C26        3\n",
            "              ..\n",
            "C106           1\n",
            "B94            1\n",
            "D49            1\n",
            "C82            1\n",
            "D10 D12        1\n",
            "Name: Cabin, Length: 147, dtype: int64\n",
            "\n",
            "Number of NaN:  687\n"
          ],
          "name": "stdout"
        }
      ]
    },
    {
      "cell_type": "markdown",
      "metadata": {
        "id": "e40HGhBzQd4-"
      },
      "source": [
        "**Embarked**"
      ]
    },
    {
      "cell_type": "code",
      "metadata": {
        "colab": {
          "base_uri": "https://localhost:8080/"
        },
        "id": "O02ARkfADERD",
        "outputId": "3cd2177d-90ae-4719-bc64-ca21edc0c7b0"
      },
      "source": [
        "print(train['Embarked'].value_counts())"
      ],
      "execution_count": 165,
      "outputs": [
        {
          "output_type": "stream",
          "text": [
            "S    644\n",
            "C    168\n",
            "Q     77\n",
            "Name: Embarked, dtype: int64\n"
          ],
          "name": "stdout"
        }
      ]
    },
    {
      "cell_type": "code",
      "metadata": {
        "colab": {
          "base_uri": "https://localhost:8080/",
          "height": 380
        },
        "id": "3alJ6_aQXbjz",
        "outputId": "ac76d5f8-b522-405a-8fa9-b07494c5421a"
      },
      "source": [
        "sns.countplot(train['Embarked'])"
      ],
      "execution_count": 166,
      "outputs": [
        {
          "output_type": "stream",
          "text": [
            "/usr/local/lib/python3.7/dist-packages/seaborn/_decorators.py:43: FutureWarning: Pass the following variable as a keyword arg: x. From version 0.12, the only valid positional argument will be `data`, and passing other arguments without an explicit keyword will result in an error or misinterpretation.\n",
            "  FutureWarning\n"
          ],
          "name": "stderr"
        },
        {
          "output_type": "execute_result",
          "data": {
            "text/plain": [
              "<matplotlib.axes._subplots.AxesSubplot at 0x7f0b939a8490>"
            ]
          },
          "metadata": {
            "tags": []
          },
          "execution_count": 166
        },
        {
          "output_type": "display_data",
          "data": {
            "image/png": "[encoded data removed]",
            "text/plain": [
              "<Figure size 1080x324 with 1 Axes>"
            ]
          },
          "metadata": {
            "tags": [],
            "needs_background": "light"
          }
        }
      ]
    },
    {
      "cell_type": "code",
      "metadata": {
        "colab": {
          "base_uri": "https://localhost:8080/",
          "height": 364
        },
        "id": "05Vn8gacaYEY",
        "outputId": "cf482465-c1da-4bc8-b5bc-376773633728"
      },
      "source": [
        "s_sur = train[train.Embarked.str.contains('S') & train.Survived==1]\n",
        "s_die = train[train.Embarked.str.contains('S') & train.Survived==0]\n",
        "\n",
        "c_sur = train[train.Embarked.str.contains('C') & train.Survived==1]\n",
        "c_die = train[train.Embarked.str.contains('C') & train.Survived==0]\n",
        "\n",
        "q_sur = train[train.Embarked.str.contains('Q') & train.Survived==1]\n",
        "q_die = train[train.Embarked.str.contains('Q') & train.Survived==0]\n",
        "\n",
        "surdie = {'survived': [len(s_sur),len(c_sur),len(q_sur)], 'die': [len(s_die),len(c_die),len(q_die)]}\n",
        "embarked_surdie = pd.DataFrame(surdie,index=['S','C','Q'])\n",
        "print(embarked_surdie)\n",
        "axes = embarked_surdie.plot.bar(rot=0)"
      ],
      "execution_count": 167,
      "outputs": [
        {
          "output_type": "stream",
          "text": [
            "   survived  die\n",
            "S       217  674\n",
            "C        93  798\n",
            "Q        30  861\n"
          ],
          "name": "stdout"
        },
        {
          "output_type": "display_data",
          "data": {
            "image/png": "[encoded data removed]",
            "text/plain": [
              "<Figure size 1080x324 with 1 Axes>"
            ]
          },
          "metadata": {
            "tags": [],
            "needs_background": "light"
          }
        }
      ]
    },
    {
      "cell_type": "markdown",
      "metadata": {
        "id": "cgFyqm7KXcOr"
      },
      "source": [
        "# Data Preprocessing"
      ]
    },
    {
      "cell_type": "markdown",
      "metadata": {
        "id": "OtitQAz2b-hm"
      },
      "source": [
        "**Initial Cleaning**"
      ]
    },
    {
      "cell_type": "code",
      "metadata": {
        "id": "NooyUvzCVQFL"
      },
      "source": [
        "# drop Name\n",
        "train = train.drop(['Name'], axis=1)\n",
        "# drop Ticket\n",
        "train = train.drop(['Ticket'], axis=1)\n",
        "# drop Cabin\n",
        "train = train.drop(['Cabin'], axis=1)\n",
        "# drop Age\n",
        "#train = train.drop(['Age'], axis=1) # age contains alot of NaN. If they were to be replaced, this could lead to misleading information\n",
        "\n",
        "# Replace NaN in Age column with Mode value\n",
        "train['Age'] = train['Age'].fillna(train['Age'].mode()[0])\n",
        "# Replace NaN in Embarked column with highest count Embarked\n",
        "train['Embarked'] = train['Embarked'].fillna(train['Embarked'].value_counts().index[0])"
      ],
      "execution_count": 168,
      "outputs": []
    },
    {
      "cell_type": "code",
      "metadata": {
        "colab": {
          "base_uri": "https://localhost:8080/",
          "height": 197
        },
        "id": "UlRzz7_Pi1ta",
        "outputId": "2d188bb4-05fa-4b70-eea0-f357e97b67ae"
      },
      "source": [
        "train.head()"
      ],
      "execution_count": 169,
      "outputs": [
        {
          "output_type": "execute_result",
          "data": {
            "text/html": [
              "<div>\n",
              "<style scoped>\n",
              "    .dataframe tbody tr th:only-of-type {\n",
              "        vertical-align: middle;\n",
              "    }\n",
              "\n",
              "    .dataframe tbody tr th {\n",
              "        vertical-align: top;\n",
              "    }\n",
              "\n",
              "    .dataframe thead th {\n",
              "        text-align: right;\n",
              "    }\n",
              "</style>\n",
              "<table border=\"1\" class=\"dataframe\">\n",
              "  <thead>\n",
              "    <tr style=\"text-align: right;\">\n",
              "      <th></th>\n",
              "      <th>PassengerId</th>\n",
              "      <th>Survived</th>\n",
              "      <th>Pclass</th>\n",
              "      <th>Sex</th>\n",
              "      <th>Age</th>\n",
              "      <th>SibSp</th>\n",
              "      <th>Parch</th>\n",
              "      <th>Fare</th>\n",
              "      <th>Embarked</th>\n",
              "    </tr>\n",
              "  </thead>\n",
              "  <tbody>\n",
              "    <tr>\n",
              "      <th>0</th>\n",
              "      <td>1</td>\n",
              "      <td>0</td>\n",
              "      <td>3</td>\n",
              "      <td>male</td>\n",
              "      <td>22.0</td>\n",
              "      <td>1</td>\n",
              "      <td>0</td>\n",
              "      <td>7.2500</td>\n",
              "      <td>S</td>\n",
              "    </tr>\n",
              "    <tr>\n",
              "      <th>1</th>\n",
              "      <td>2</td>\n",
              "      <td>1</td>\n",
              "      <td>1</td>\n",
              "      <td>female</td>\n",
              "      <td>38.0</td>\n",
              "      <td>1</td>\n",
              "      <td>0</td>\n",
              "      <td>71.2833</td>\n",
              "      <td>C</td>\n",
              "    </tr>\n",
              "    <tr>\n",
              "      <th>2</th>\n",
              "      <td>3</td>\n",
              "      <td>1</td>\n",
              "      <td>3</td>\n",
              "      <td>female</td>\n",
              "      <td>26.0</td>\n",
              "      <td>0</td>\n",
              "      <td>0</td>\n",
              "      <td>7.9250</td>\n",
              "      <td>S</td>\n",
              "    </tr>\n",
              "    <tr>\n",
              "      <th>3</th>\n",
              "      <td>4</td>\n",
              "      <td>1</td>\n",
              "      <td>1</td>\n",
              "      <td>female</td>\n",
              "      <td>35.0</td>\n",
              "      <td>1</td>\n",
              "      <td>0</td>\n",
              "      <td>53.1000</td>\n",
              "      <td>S</td>\n",
              "    </tr>\n",
              "    <tr>\n",
              "      <th>4</th>\n",
              "      <td>5</td>\n",
              "      <td>0</td>\n",
              "      <td>3</td>\n",
              "      <td>male</td>\n",
              "      <td>35.0</td>\n",
              "      <td>0</td>\n",
              "      <td>0</td>\n",
              "      <td>8.0500</td>\n",
              "      <td>S</td>\n",
              "    </tr>\n",
              "  </tbody>\n",
              "</table>\n",
              "</div>"
            ],
            "text/plain": [
              "   PassengerId  Survived  Pclass     Sex   Age  SibSp  Parch     Fare Embarked\n",
              "0            1         0       3    male  22.0      1      0   7.2500        S\n",
              "1            2         1       1  female  38.0      1      0  71.2833        C\n",
              "2            3         1       3  female  26.0      0      0   7.9250        S\n",
              "3            4         1       1  female  35.0      1      0  53.1000        S\n",
              "4            5         0       3    male  35.0      0      0   8.0500        S"
            ]
          },
          "metadata": {
            "tags": []
          },
          "execution_count": 169
        }
      ]
    },
    {
      "cell_type": "markdown",
      "metadata": {
        "id": "tc73We4ge0Mt"
      },
      "source": [
        "**Continuous Input**"
      ]
    },
    {
      "cell_type": "code",
      "metadata": {
        "colab": {
          "base_uri": "https://localhost:8080/",
          "height": 197
        },
        "id": "Yzmalxa4gw3x",
        "outputId": "f0dc2cf8-0d39-4e65-8e7c-1c5c617850cf"
      },
      "source": [
        "# one hot encoding\n",
        "# Some algorithms can work with categorical data directly. Ex. Decision tree\n",
        "# Many ML algorithms cannot operate on label data directly. They required all input variables and output variables to be numeric\n",
        "sex_onehot = pd.get_dummies(train.Sex, prefix='Sex')\n",
        "embarked_onehot = pd.get_dummies(train.Embarked, prefix='Embarked')\n",
        "\n",
        "train_con = pd.concat([train,sex_onehot,embarked_onehot], axis=1)\n",
        "train_con = train_con.drop(['Sex','Embarked'],axis=1)\n",
        "train_con.head()"
      ],
      "execution_count": 170,
      "outputs": [
        {
          "output_type": "execute_result",
          "data": {
            "text/html": [
              "<div>\n",
              "<style scoped>\n",
              "    .dataframe tbody tr th:only-of-type {\n",
              "        vertical-align: middle;\n",
              "    }\n",
              "\n",
              "    .dataframe tbody tr th {\n",
              "        vertical-align: top;\n",
              "    }\n",
              "\n",
              "    .dataframe thead th {\n",
              "        text-align: right;\n",
              "    }\n",
              "</style>\n",
              "<table border=\"1\" class=\"dataframe\">\n",
              "  <thead>\n",
              "    <tr style=\"text-align: right;\">\n",
              "      <th></th>\n",
              "      <th>PassengerId</th>\n",
              "      <th>Survived</th>\n",
              "      <th>Pclass</th>\n",
              "      <th>Age</th>\n",
              "      <th>SibSp</th>\n",
              "      <th>Parch</th>\n",
              "      <th>Fare</th>\n",
              "      <th>Sex_female</th>\n",
              "      <th>Sex_male</th>\n",
              "      <th>Embarked_C</th>\n",
              "      <th>Embarked_Q</th>\n",
              "      <th>Embarked_S</th>\n",
              "    </tr>\n",
              "  </thead>\n",
              "  <tbody>\n",
              "    <tr>\n",
              "      <th>0</th>\n",
              "      <td>1</td>\n",
              "      <td>0</td>\n",
              "      <td>3</td>\n",
              "      <td>22.0</td>\n",
              "      <td>1</td>\n",
              "      <td>0</td>\n",
              "      <td>7.2500</td>\n",
              "      <td>0</td>\n",
              "      <td>1</td>\n",
              "      <td>0</td>\n",
              "      <td>0</td>\n",
              "      <td>1</td>\n",
              "    </tr>\n",
              "    <tr>\n",
              "      <th>1</th>\n",
              "      <td>2</td>\n",
              "      <td>1</td>\n",
              "      <td>1</td>\n",
              "      <td>38.0</td>\n",
              "      <td>1</td>\n",
              "      <td>0</td>\n",
              "      <td>71.2833</td>\n",
              "      <td>1</td>\n",
              "      <td>0</td>\n",
              "      <td>1</td>\n",
              "      <td>0</td>\n",
              "      <td>0</td>\n",
              "    </tr>\n",
              "    <tr>\n",
              "      <th>2</th>\n",
              "      <td>3</td>\n",
              "      <td>1</td>\n",
              "      <td>3</td>\n",
              "      <td>26.0</td>\n",
              "      <td>0</td>\n",
              "      <td>0</td>\n",
              "      <td>7.9250</td>\n",
              "      <td>1</td>\n",
              "      <td>0</td>\n",
              "      <td>0</td>\n",
              "      <td>0</td>\n",
              "      <td>1</td>\n",
              "    </tr>\n",
              "    <tr>\n",
              "      <th>3</th>\n",
              "      <td>4</td>\n",
              "      <td>1</td>\n",
              "      <td>1</td>\n",
              "      <td>35.0</td>\n",
              "      <td>1</td>\n",
              "      <td>0</td>\n",
              "      <td>53.1000</td>\n",
              "      <td>1</td>\n",
              "      <td>0</td>\n",
              "      <td>0</td>\n",
              "      <td>0</td>\n",
              "      <td>1</td>\n",
              "    </tr>\n",
              "    <tr>\n",
              "      <th>4</th>\n",
              "      <td>5</td>\n",
              "      <td>0</td>\n",
              "      <td>3</td>\n",
              "      <td>35.0</td>\n",
              "      <td>0</td>\n",
              "      <td>0</td>\n",
              "      <td>8.0500</td>\n",
              "      <td>0</td>\n",
              "      <td>1</td>\n",
              "      <td>0</td>\n",
              "      <td>0</td>\n",
              "      <td>1</td>\n",
              "    </tr>\n",
              "  </tbody>\n",
              "</table>\n",
              "</div>"
            ],
            "text/plain": [
              "   PassengerId  Survived  Pclass  ...  Embarked_C  Embarked_Q  Embarked_S\n",
              "0            1         0       3  ...           0           0           1\n",
              "1            2         1       1  ...           1           0           0\n",
              "2            3         1       3  ...           0           0           1\n",
              "3            4         1       1  ...           0           0           1\n",
              "4            5         0       3  ...           0           0           1\n",
              "\n",
              "[5 rows x 12 columns]"
            ]
          },
          "metadata": {
            "tags": []
          },
          "execution_count": 170
        }
      ]
    },
    {
      "cell_type": "markdown",
      "metadata": {
        "id": "sqTxmG6ugtqP"
      },
      "source": [
        "**Discrete Data**"
      ]
    },
    {
      "cell_type": "code",
      "metadata": {
        "colab": {
          "base_uri": "https://localhost:8080/"
        },
        "id": "XitPXBRZvocA",
        "outputId": "d88df9f2-8757-4600-aa6f-a8da82d61062"
      },
      "source": [
        "# Assign Age to categories (discretized) because Age is type float\n",
        "bin_age = [0, 20, 40, 60, 80, 100]\n",
        "dis_age = pd.cut(train['Age'], bins=bin_age) # discretised\n",
        "dis_age.value_counts()"
      ],
      "execution_count": 171,
      "outputs": [
        {
          "output_type": "execute_result",
          "data": {
            "text/plain": [
              "(20, 40]     562\n",
              "(0, 20]      179\n",
              "(40, 60]     128\n",
              "(60, 80]      22\n",
              "(80, 100]      0\n",
              "Name: Age, dtype: int64"
            ]
          },
          "metadata": {
            "tags": []
          },
          "execution_count": 171
        }
      ]
    },
    {
      "cell_type": "code",
      "metadata": {
        "colab": {
          "base_uri": "https://localhost:8080/"
        },
        "id": "13jp9SpcXQJe",
        "outputId": "1aa023e1-eb77-4eb2-83b1-45a7f107b2e1"
      },
      "source": [
        "# Assign Fare to categories (discretized) because Fare is type float\n",
        "bin_fare = [-1, 100, 200, 300, 400, 500]\n",
        "dis_fare = pd.cut(train['Fare'], bins=bin_fare) # discretised\n",
        "dis_fare.value_counts()"
      ],
      "execution_count": 172,
      "outputs": [
        {
          "output_type": "execute_result",
          "data": {
            "text/plain": [
              "(-1, 100]     838\n",
              "(100, 200]     33\n",
              "(200, 300]     17\n",
              "(400, 500]      0\n",
              "(300, 400]      0\n",
              "Name: Fare, dtype: int64"
            ]
          },
          "metadata": {
            "tags": []
          },
          "execution_count": 172
        }
      ]
    },
    {
      "cell_type": "code",
      "metadata": {
        "colab": {
          "base_uri": "https://localhost:8080/",
          "height": 197
        },
        "id": "uTvrSvdIkAiR",
        "outputId": "1173e1a1-bcb4-46cc-f698-72096717fd0a"
      },
      "source": [
        "train_d = train.copy()\n",
        "train_d['Fare'] = dis_fare\n",
        "train_d['Age'] = dis_age\n",
        "train_d.head()"
      ],
      "execution_count": 173,
      "outputs": [
        {
          "output_type": "execute_result",
          "data": {
            "text/html": [
              "<div>\n",
              "<style scoped>\n",
              "    .dataframe tbody tr th:only-of-type {\n",
              "        vertical-align: middle;\n",
              "    }\n",
              "\n",
              "    .dataframe tbody tr th {\n",
              "        vertical-align: top;\n",
              "    }\n",
              "\n",
              "    .dataframe thead th {\n",
              "        text-align: right;\n",
              "    }\n",
              "</style>\n",
              "<table border=\"1\" class=\"dataframe\">\n",
              "  <thead>\n",
              "    <tr style=\"text-align: right;\">\n",
              "      <th></th>\n",
              "      <th>PassengerId</th>\n",
              "      <th>Survived</th>\n",
              "      <th>Pclass</th>\n",
              "      <th>Sex</th>\n",
              "      <th>Age</th>\n",
              "      <th>SibSp</th>\n",
              "      <th>Parch</th>\n",
              "      <th>Fare</th>\n",
              "      <th>Embarked</th>\n",
              "    </tr>\n",
              "  </thead>\n",
              "  <tbody>\n",
              "    <tr>\n",
              "      <th>0</th>\n",
              "      <td>1</td>\n",
              "      <td>0</td>\n",
              "      <td>3</td>\n",
              "      <td>male</td>\n",
              "      <td>(20, 40]</td>\n",
              "      <td>1</td>\n",
              "      <td>0</td>\n",
              "      <td>(-1, 100]</td>\n",
              "      <td>S</td>\n",
              "    </tr>\n",
              "    <tr>\n",
              "      <th>1</th>\n",
              "      <td>2</td>\n",
              "      <td>1</td>\n",
              "      <td>1</td>\n",
              "      <td>female</td>\n",
              "      <td>(20, 40]</td>\n",
              "      <td>1</td>\n",
              "      <td>0</td>\n",
              "      <td>(-1, 100]</td>\n",
              "      <td>C</td>\n",
              "    </tr>\n",
              "    <tr>\n",
              "      <th>2</th>\n",
              "      <td>3</td>\n",
              "      <td>1</td>\n",
              "      <td>3</td>\n",
              "      <td>female</td>\n",
              "      <td>(20, 40]</td>\n",
              "      <td>0</td>\n",
              "      <td>0</td>\n",
              "      <td>(-1, 100]</td>\n",
              "      <td>S</td>\n",
              "    </tr>\n",
              "    <tr>\n",
              "      <th>3</th>\n",
              "      <td>4</td>\n",
              "      <td>1</td>\n",
              "      <td>1</td>\n",
              "      <td>female</td>\n",
              "      <td>(20, 40]</td>\n",
              "      <td>1</td>\n",
              "      <td>0</td>\n",
              "      <td>(-1, 100]</td>\n",
              "      <td>S</td>\n",
              "    </tr>\n",
              "    <tr>\n",
              "      <th>4</th>\n",
              "      <td>5</td>\n",
              "      <td>0</td>\n",
              "      <td>3</td>\n",
              "      <td>male</td>\n",
              "      <td>(20, 40]</td>\n",
              "      <td>0</td>\n",
              "      <td>0</td>\n",
              "      <td>(-1, 100]</td>\n",
              "      <td>S</td>\n",
              "    </tr>\n",
              "  </tbody>\n",
              "</table>\n",
              "</div>"
            ],
            "text/plain": [
              "   PassengerId  Survived  Pclass     Sex  ... SibSp  Parch       Fare Embarked\n",
              "0            1         0       3    male  ...     1      0  (-1, 100]        S\n",
              "1            2         1       1  female  ...     1      0  (-1, 100]        C\n",
              "2            3         1       3  female  ...     0      0  (-1, 100]        S\n",
              "3            4         1       1  female  ...     1      0  (-1, 100]        S\n",
              "4            5         0       3    male  ...     0      0  (-1, 100]        S\n",
              "\n",
              "[5 rows x 9 columns]"
            ]
          },
          "metadata": {
            "tags": []
          },
          "execution_count": 173
        }
      ]
    },
    {
      "cell_type": "code",
      "metadata": {
        "colab": {
          "base_uri": "https://localhost:8080/",
          "height": 234
        },
        "id": "cLpFlLsUdvXT",
        "outputId": "46545a90-4d88-45bd-a4f3-087bee207cec"
      },
      "source": [
        "# one hot encoding\n",
        "# Some algorithms can work with categorical data directly. Ex. Decision tree\n",
        "# Many ML algorithms cannot operate on label data directly. They required all input variables and output variables to be numeric\n",
        "sex_onehot = pd.get_dummies(train_d.Sex, prefix='Sex')\n",
        "embarked_onehot = pd.get_dummies(train_d.Embarked, prefix='Embarked')\n",
        "fare_onehot = pd.get_dummies(train_d.Fare, prefix='Fare')\n",
        "age_onehot = pd.get_dummies(train_d.Age, prefix='Age')\n",
        "\n",
        "train_dis = pd.concat([train_d,sex_onehot,embarked_onehot,age_onehot,fare_onehot], axis=1)\n",
        "train_dis = train_dis.drop(['Sex','Embarked','Fare','Age'],axis=1)\n",
        "train_dis.head()"
      ],
      "execution_count": 174,
      "outputs": [
        {
          "output_type": "execute_result",
          "data": {
            "text/html": [
              "<div>\n",
              "<style scoped>\n",
              "    .dataframe tbody tr th:only-of-type {\n",
              "        vertical-align: middle;\n",
              "    }\n",
              "\n",
              "    .dataframe tbody tr th {\n",
              "        vertical-align: top;\n",
              "    }\n",
              "\n",
              "    .dataframe thead th {\n",
              "        text-align: right;\n",
              "    }\n",
              "</style>\n",
              "<table border=\"1\" class=\"dataframe\">\n",
              "  <thead>\n",
              "    <tr style=\"text-align: right;\">\n",
              "      <th></th>\n",
              "      <th>PassengerId</th>\n",
              "      <th>Survived</th>\n",
              "      <th>Pclass</th>\n",
              "      <th>SibSp</th>\n",
              "      <th>Parch</th>\n",
              "      <th>Sex_female</th>\n",
              "      <th>Sex_male</th>\n",
              "      <th>Embarked_C</th>\n",
              "      <th>Embarked_Q</th>\n",
              "      <th>Embarked_S</th>\n",
              "      <th>Age_(0, 20]</th>\n",
              "      <th>Age_(20, 40]</th>\n",
              "      <th>Age_(40, 60]</th>\n",
              "      <th>Age_(60, 80]</th>\n",
              "      <th>Age_(80, 100]</th>\n",
              "      <th>Fare_(-1, 100]</th>\n",
              "      <th>Fare_(100, 200]</th>\n",
              "      <th>Fare_(200, 300]</th>\n",
              "      <th>Fare_(300, 400]</th>\n",
              "      <th>Fare_(400, 500]</th>\n",
              "    </tr>\n",
              "  </thead>\n",
              "  <tbody>\n",
              "    <tr>\n",
              "      <th>0</th>\n",
              "      <td>1</td>\n",
              "      <td>0</td>\n",
              "      <td>3</td>\n",
              "      <td>1</td>\n",
              "      <td>0</td>\n",
              "      <td>0</td>\n",
              "      <td>1</td>\n",
              "      <td>0</td>\n",
              "      <td>0</td>\n",
              "      <td>1</td>\n",
              "      <td>0</td>\n",
              "      <td>1</td>\n",
              "      <td>0</td>\n",
              "      <td>0</td>\n",
              "      <td>0</td>\n",
              "      <td>1</td>\n",
              "      <td>0</td>\n",
              "      <td>0</td>\n",
              "      <td>0</td>\n",
              "      <td>0</td>\n",
              "    </tr>\n",
              "    <tr>\n",
              "      <th>1</th>\n",
              "      <td>2</td>\n",
              "      <td>1</td>\n",
              "      <td>1</td>\n",
              "      <td>1</td>\n",
              "      <td>0</td>\n",
              "      <td>1</td>\n",
              "      <td>0</td>\n",
              "      <td>1</td>\n",
              "      <td>0</td>\n",
              "      <td>0</td>\n",
              "      <td>0</td>\n",
              "      <td>1</td>\n",
              "      <td>0</td>\n",
              "      <td>0</td>\n",
              "      <td>0</td>\n",
              "      <td>1</td>\n",
              "      <td>0</td>\n",
              "      <td>0</td>\n",
              "      <td>0</td>\n",
              "      <td>0</td>\n",
              "    </tr>\n",
              "    <tr>\n",
              "      <th>2</th>\n",
              "      <td>3</td>\n",
              "      <td>1</td>\n",
              "      <td>3</td>\n",
              "      <td>0</td>\n",
              "      <td>0</td>\n",
              "      <td>1</td>\n",
              "      <td>0</td>\n",
              "      <td>0</td>\n",
              "      <td>0</td>\n",
              "      <td>1</td>\n",
              "      <td>0</td>\n",
              "      <td>1</td>\n",
              "      <td>0</td>\n",
              "      <td>0</td>\n",
              "      <td>0</td>\n",
              "      <td>1</td>\n",
              "      <td>0</td>\n",
              "      <td>0</td>\n",
              "      <td>0</td>\n",
              "      <td>0</td>\n",
              "    </tr>\n",
              "    <tr>\n",
              "      <th>3</th>\n",
              "      <td>4</td>\n",
              "      <td>1</td>\n",
              "      <td>1</td>\n",
              "      <td>1</td>\n",
              "      <td>0</td>\n",
              "      <td>1</td>\n",
              "      <td>0</td>\n",
              "      <td>0</td>\n",
              "      <td>0</td>\n",
              "      <td>1</td>\n",
              "      <td>0</td>\n",
              "      <td>1</td>\n",
              "      <td>0</td>\n",
              "      <td>0</td>\n",
              "      <td>0</td>\n",
              "      <td>1</td>\n",
              "      <td>0</td>\n",
              "      <td>0</td>\n",
              "      <td>0</td>\n",
              "      <td>0</td>\n",
              "    </tr>\n",
              "    <tr>\n",
              "      <th>4</th>\n",
              "      <td>5</td>\n",
              "      <td>0</td>\n",
              "      <td>3</td>\n",
              "      <td>0</td>\n",
              "      <td>0</td>\n",
              "      <td>0</td>\n",
              "      <td>1</td>\n",
              "      <td>0</td>\n",
              "      <td>0</td>\n",
              "      <td>1</td>\n",
              "      <td>0</td>\n",
              "      <td>1</td>\n",
              "      <td>0</td>\n",
              "      <td>0</td>\n",
              "      <td>0</td>\n",
              "      <td>1</td>\n",
              "      <td>0</td>\n",
              "      <td>0</td>\n",
              "      <td>0</td>\n",
              "      <td>0</td>\n",
              "    </tr>\n",
              "  </tbody>\n",
              "</table>\n",
              "</div>"
            ],
            "text/plain": [
              "   PassengerId  Survived  ...  Fare_(300, 400]  Fare_(400, 500]\n",
              "0            1         0  ...                0                0\n",
              "1            2         1  ...                0                0\n",
              "2            3         1  ...                0                0\n",
              "3            4         1  ...                0                0\n",
              "4            5         0  ...                0                0\n",
              "\n",
              "[5 rows x 20 columns]"
            ]
          },
          "metadata": {
            "tags": []
          },
          "execution_count": 174
        }
      ]
    },
    {
      "cell_type": "markdown",
      "metadata": {
        "id": "icJ7dkFemJFE"
      },
      "source": [
        "# Split x_train & y_train"
      ]
    },
    {
      "cell_type": "code",
      "metadata": {
        "id": "5JkL0sd4mMIa"
      },
      "source": [
        "# Select continuous data or discrete data\n",
        "df = train_dis"
      ],
      "execution_count": 175,
      "outputs": []
    },
    {
      "cell_type": "code",
      "metadata": {
        "id": "EKDifLI7meOW"
      },
      "source": [
        "x_train = df.drop(['Survived','PassengerId'],axis=1)\n",
        "y_train = df['Survived']"
      ],
      "execution_count": 176,
      "outputs": []
    },
    {
      "cell_type": "code",
      "metadata": {
        "colab": {
          "base_uri": "https://localhost:8080/",
          "height": 234
        },
        "id": "r3jW_2WfnRaF",
        "outputId": "899fbbca-56b9-48b3-c7ce-96ba83dbe305"
      },
      "source": [
        "x_train.head()"
      ],
      "execution_count": 177,
      "outputs": [
        {
          "output_type": "execute_result",
          "data": {
            "text/html": [
              "<div>\n",
              "<style scoped>\n",
              "    .dataframe tbody tr th:only-of-type {\n",
              "        vertical-align: middle;\n",
              "    }\n",
              "\n",
              "    .dataframe tbody tr th {\n",
              "        vertical-align: top;\n",
              "    }\n",
              "\n",
              "    .dataframe thead th {\n",
              "        text-align: right;\n",
              "    }\n",
              "</style>\n",
              "<table border=\"1\" class=\"dataframe\">\n",
              "  <thead>\n",
              "    <tr style=\"text-align: right;\">\n",
              "      <th></th>\n",
              "      <th>Pclass</th>\n",
              "      <th>SibSp</th>\n",
              "      <th>Parch</th>\n",
              "      <th>Sex_female</th>\n",
              "      <th>Sex_male</th>\n",
              "      <th>Embarked_C</th>\n",
              "      <th>Embarked_Q</th>\n",
              "      <th>Embarked_S</th>\n",
              "      <th>Age_(0, 20]</th>\n",
              "      <th>Age_(20, 40]</th>\n",
              "      <th>Age_(40, 60]</th>\n",
              "      <th>Age_(60, 80]</th>\n",
              "      <th>Age_(80, 100]</th>\n",
              "      <th>Fare_(-1, 100]</th>\n",
              "      <th>Fare_(100, 200]</th>\n",
              "      <th>Fare_(200, 300]</th>\n",
              "      <th>Fare_(300, 400]</th>\n",
              "      <th>Fare_(400, 500]</th>\n",
              "    </tr>\n",
              "  </thead>\n",
              "  <tbody>\n",
              "    <tr>\n",
              "      <th>0</th>\n",
              "      <td>3</td>\n",
              "      <td>1</td>\n",
              "      <td>0</td>\n",
              "      <td>0</td>\n",
              "      <td>1</td>\n",
              "      <td>0</td>\n",
              "      <td>0</td>\n",
              "      <td>1</td>\n",
              "      <td>0</td>\n",
              "      <td>1</td>\n",
              "      <td>0</td>\n",
              "      <td>0</td>\n",
              "      <td>0</td>\n",
              "      <td>1</td>\n",
              "      <td>0</td>\n",
              "      <td>0</td>\n",
              "      <td>0</td>\n",
              "      <td>0</td>\n",
              "    </tr>\n",
              "    <tr>\n",
              "      <th>1</th>\n",
              "      <td>1</td>\n",
              "      <td>1</td>\n",
              "      <td>0</td>\n",
              "      <td>1</td>\n",
              "      <td>0</td>\n",
              "      <td>1</td>\n",
              "      <td>0</td>\n",
              "      <td>0</td>\n",
              "      <td>0</td>\n",
              "      <td>1</td>\n",
              "      <td>0</td>\n",
              "      <td>0</td>\n",
              "      <td>0</td>\n",
              "      <td>1</td>\n",
              "      <td>0</td>\n",
              "      <td>0</td>\n",
              "      <td>0</td>\n",
              "      <td>0</td>\n",
              "    </tr>\n",
              "    <tr>\n",
              "      <th>2</th>\n",
              "      <td>3</td>\n",
              "      <td>0</td>\n",
              "      <td>0</td>\n",
              "      <td>1</td>\n",
              "      <td>0</td>\n",
              "      <td>0</td>\n",
              "      <td>0</td>\n",
              "      <td>1</td>\n",
              "      <td>0</td>\n",
              "      <td>1</td>\n",
              "      <td>0</td>\n",
              "      <td>0</td>\n",
              "      <td>0</td>\n",
              "      <td>1</td>\n",
              "      <td>0</td>\n",
              "      <td>0</td>\n",
              "      <td>0</td>\n",
              "      <td>0</td>\n",
              "    </tr>\n",
              "    <tr>\n",
              "      <th>3</th>\n",
              "      <td>1</td>\n",
              "      <td>1</td>\n",
              "      <td>0</td>\n",
              "      <td>1</td>\n",
              "      <td>0</td>\n",
              "      <td>0</td>\n",
              "      <td>0</td>\n",
              "      <td>1</td>\n",
              "      <td>0</td>\n",
              "      <td>1</td>\n",
              "      <td>0</td>\n",
              "      <td>0</td>\n",
              "      <td>0</td>\n",
              "      <td>1</td>\n",
              "      <td>0</td>\n",
              "      <td>0</td>\n",
              "      <td>0</td>\n",
              "      <td>0</td>\n",
              "    </tr>\n",
              "    <tr>\n",
              "      <th>4</th>\n",
              "      <td>3</td>\n",
              "      <td>0</td>\n",
              "      <td>0</td>\n",
              "      <td>0</td>\n",
              "      <td>1</td>\n",
              "      <td>0</td>\n",
              "      <td>0</td>\n",
              "      <td>1</td>\n",
              "      <td>0</td>\n",
              "      <td>1</td>\n",
              "      <td>0</td>\n",
              "      <td>0</td>\n",
              "      <td>0</td>\n",
              "      <td>1</td>\n",
              "      <td>0</td>\n",
              "      <td>0</td>\n",
              "      <td>0</td>\n",
              "      <td>0</td>\n",
              "    </tr>\n",
              "  </tbody>\n",
              "</table>\n",
              "</div>"
            ],
            "text/plain": [
              "   Pclass  SibSp  Parch  ...  Fare_(200, 300]  Fare_(300, 400]  Fare_(400, 500]\n",
              "0       3      1      0  ...                0                0                0\n",
              "1       1      1      0  ...                0                0                0\n",
              "2       3      0      0  ...                0                0                0\n",
              "3       1      1      0  ...                0                0                0\n",
              "4       3      0      0  ...                0                0                0\n",
              "\n",
              "[5 rows x 18 columns]"
            ]
          },
          "metadata": {
            "tags": []
          },
          "execution_count": 177
        }
      ]
    },
    {
      "cell_type": "code",
      "metadata": {
        "colab": {
          "base_uri": "https://localhost:8080/"
        },
        "id": "pTBW9frnnSsH",
        "outputId": "a57468e2-ebb8-41c0-d529-4061300717fd"
      },
      "source": [
        "y_train.head()"
      ],
      "execution_count": 178,
      "outputs": [
        {
          "output_type": "execute_result",
          "data": {
            "text/plain": [
              "0    0\n",
              "1    1\n",
              "2    1\n",
              "3    1\n",
              "4    0\n",
              "Name: Survived, dtype: int64"
            ]
          },
          "metadata": {
            "tags": []
          },
          "execution_count": 178
        }
      ]
    },
    {
      "cell_type": "markdown",
      "metadata": {
        "id": "Nyv48qJZoQeB"
      },
      "source": [
        "# Model Fitting"
      ]
    },
    {
      "cell_type": "markdown",
      "metadata": {
        "id": "poVFP-FAqBQP"
      },
      "source": [
        "**K nearest neighbours(KNN)**"
      ]
    },
    {
      "cell_type": "code",
      "metadata": {
        "colab": {
          "base_uri": "https://localhost:8080/"
        },
        "id": "w9vuNMV1oWX9",
        "outputId": "286cbf82-9ef1-4eda-951d-4f3e9544a43d"
      },
      "source": [
        "start_time = time.time()\n",
        "\n",
        "knn = KNeighborsClassifier()\n",
        "param_grid = {'n_neighbors': np.arange(1, 25), 'metric': ['euclidean', 'manhattan', 'chebyshev', 'minkowski']} # create a dictionary of all values of n_neighbors\n",
        "\n",
        "# use gridsearch to test all values for n_neighbors\n",
        "knn_gscv = GridSearchCV(knn, param_grid, cv=10, verbose=0)# 10-fold cv\n",
        "knn_gscv.fit(x_train, y_train) # fit model to data\n",
        "print('Accuracy: ', knn_gscv.best_score_) # best_score_ outputs the mean accuracy of the scores obtained through cross-validation\n",
        "print('Best estimator: ', knn_gscv.best_estimator_)\n",
        "log_time = (time.time() - start_time)\n",
        "print(\"Running Time: %s\" % datetime.timedelta(seconds=log_time))\n",
        "\n",
        "knn_acc = knn_gscv.best_score_\n",
        "knn_model_best = knn_gscv.best_estimator_"
      ],
      "execution_count": 179,
      "outputs": [
        {
          "output_type": "stream",
          "text": [
            "Accuracy:  0.8069787765293382\n",
            "Best estimator:  KNeighborsClassifier(algorithm='auto', leaf_size=30, metric='euclidean',\n",
            "                     metric_params=None, n_jobs=None, n_neighbors=20, p=2,\n",
            "                     weights='uniform')\n",
            "Running Time: 0:00:07.345280\n"
          ],
          "name": "stdout"
        }
      ]
    },
    {
      "cell_type": "markdown",
      "metadata": {
        "id": "UfLXtOXE3hMw"
      },
      "source": [
        "**Logistic Regression**"
      ]
    },
    {
      "cell_type": "code",
      "metadata": {
        "colab": {
          "base_uri": "https://localhost:8080/"
        },
        "id": "pYGXzpl03ggd",
        "outputId": "00358126-ac4f-4566-ce87-5f87d4dbe8dd"
      },
      "source": [
        "start_time = time.time()\n",
        "\n",
        "model = LogisticRegression()\n",
        "param_grid = {} # create a dictionary of all values of n_neighbors\n",
        "\n",
        "# use gridsearch to test all values for n_neighbors\n",
        "model_gscv = GridSearchCV(model, param_grid, cv=10, verbose=0)# 10-fold cv\n",
        "model_gscv.fit(x_train, y_train) # fit model to data\n",
        "print('Accuracy: ', model_gscv.best_score_)\n",
        "print('Best estimator: ', model_gscv.best_estimator_)\n",
        "log_time = (time.time() - start_time)\n",
        "print(\"Running Time: %s\" % datetime.timedelta(seconds=log_time))\n",
        "\n",
        "logistic_acc = model_gscv.best_score_\n",
        "logistic_model_best = model_gscv.best_estimator_"
      ],
      "execution_count": 180,
      "outputs": [
        {
          "output_type": "stream",
          "text": [
            "Accuracy:  0.7946441947565545\n",
            "Best estimator:  LogisticRegression(C=1.0, class_weight=None, dual=False, fit_intercept=True,\n",
            "                   intercept_scaling=1, l1_ratio=None, max_iter=100,\n",
            "                   multi_class='auto', n_jobs=None, penalty='l2',\n",
            "                   random_state=None, solver='lbfgs', tol=0.0001, verbose=0,\n",
            "                   warm_start=False)\n",
            "Running Time: 0:00:00.240372\n"
          ],
          "name": "stdout"
        }
      ]
    },
    {
      "cell_type": "markdown",
      "metadata": {
        "id": "cSfJhL6h6PfH"
      },
      "source": [
        "**Decision Tree**"
      ]
    },
    {
      "cell_type": "code",
      "metadata": {
        "colab": {
          "base_uri": "https://localhost:8080/"
        },
        "id": "gyp3nK-c6Sr8",
        "outputId": "85db632b-5648-483d-e1df-6e8d4e70e746"
      },
      "source": [
        "start_time = time.time()\n",
        "\n",
        "model = DecisionTreeClassifier(random_state=42)\n",
        "\n",
        "criterion = ['gini', 'entropy']\n",
        "depths = np.arange(1, 21)\n",
        "splitter = ['best', 'random']\n",
        "param_grid = [{'max_depth':depths,\n",
        "              'criterion':criterion, 'max_features': ['auto', 'sqrt', 'log2']}] # create a dictionary of all values of n_neighbors\n",
        "\n",
        "# use gridsearch to test all values for n_neighbors\n",
        "model_gscv = GridSearchCV(model, param_grid, cv=10, verbose=0)# 10-fold cv\n",
        "model_gscv.fit(x_train, y_train) # fit model to data\n",
        "print('Accuracy: ', model_gscv.best_score_)\n",
        "print('Best estimator: ', model_gscv.best_estimator_)\n",
        "log_time = (time.time() - start_time)\n",
        "print(\"Running Time: %s\" % datetime.timedelta(seconds=log_time))\n",
        "\n",
        "decisiontree_acc = model_gscv.best_score_\n",
        "decisiontree_model_best = model_gscv.best_estimator_"
      ],
      "execution_count": 181,
      "outputs": [
        {
          "output_type": "stream",
          "text": [
            "Accuracy:  0.8137203495630461\n",
            "Best estimator:  DecisionTreeClassifier(ccp_alpha=0.0, class_weight=None, criterion='entropy',\n",
            "                       max_depth=8, max_features='auto', max_leaf_nodes=None,\n",
            "                       min_impurity_decrease=0.0, min_impurity_split=None,\n",
            "                       min_samples_leaf=1, min_samples_split=2,\n",
            "                       min_weight_fraction_leaf=0.0, presort='deprecated',\n",
            "                       random_state=42, splitter='best')\n",
            "Running Time: 0:00:03.741051\n"
          ],
          "name": "stdout"
        }
      ]
    },
    {
      "cell_type": "markdown",
      "metadata": {
        "id": "cYhRgNkE-KDC"
      },
      "source": [
        "**Random Forest**"
      ]
    },
    {
      "cell_type": "code",
      "metadata": {
        "colab": {
          "base_uri": "https://localhost:8080/"
        },
        "id": "_slR8Qsq-O3M",
        "outputId": "292d55b1-ca4b-444c-bded-fee9075c92bf"
      },
      "source": [
        "start_time = time.time()\n",
        "model = RandomForestClassifier(random_state=42)\n",
        "\n",
        "param_grid = {'n_estimators': [200, 400, 500],\n",
        "              'max_features': ['auto'],\n",
        "              'max_depth' : [4,5,6,7,8],\n",
        "              'criterion' :['gini', 'entropy']} # create a dictionary of all values of n_neighbors\n",
        "\n",
        "# use gridsearch to test all values for n_neighbors\n",
        "model_gscv = GridSearchCV(model, param_grid, cv=10, verbose=0)# 10-fold cv\n",
        "model_gscv.fit(x_train, y_train) # fit model to data\n",
        "print('Accuracy: ', model_gscv.best_score_)\n",
        "print('Best estimator: ', model_gscv.best_estimator_)\n",
        "log_time = (time.time() - start_time)\n",
        "print(\"Running Time: %s\" % datetime.timedelta(seconds=log_time))\n",
        "\n",
        "randomforest_acc = model_gscv.best_score_\n",
        "randomforest_model_best = model_gscv.best_estimator_"
      ],
      "execution_count": 182,
      "outputs": [
        {
          "output_type": "stream",
          "text": [
            "Accuracy:  0.8148439450686642\n",
            "Best estimator:  RandomForestClassifier(bootstrap=True, ccp_alpha=0.0, class_weight=None,\n",
            "                       criterion='gini', max_depth=6, max_features='auto',\n",
            "                       max_leaf_nodes=None, max_samples=None,\n",
            "                       min_impurity_decrease=0.0, min_impurity_split=None,\n",
            "                       min_samples_leaf=1, min_samples_split=2,\n",
            "                       min_weight_fraction_leaf=0.0, n_estimators=200,\n",
            "                       n_jobs=None, oob_score=False, random_state=42, verbose=0,\n",
            "                       warm_start=False)\n",
            "Running Time: 0:02:27.621814\n"
          ],
          "name": "stdout"
        }
      ]
    },
    {
      "cell_type": "markdown",
      "metadata": {
        "id": "qn0DgLFTycJS"
      },
      "source": [
        "**Gradient Boost Trees**"
      ]
    },
    {
      "cell_type": "code",
      "metadata": {
        "id": "o9QIwSrpyfJ2",
        "colab": {
          "base_uri": "https://localhost:8080/"
        },
        "outputId": "5d84c62e-ca44-43c9-d8e3-862f0a7da8dd"
      },
      "source": [
        "start_time = time.time()\n",
        "model = GradientBoostingClassifier(random_state=42)\n",
        "\n",
        "param_grid = {\"loss\":[\"deviance\"],\n",
        "              \"learning_rate\": [0.01, 0.025, 0.05, 0.075, 0.1, 0.15, 0.2],\n",
        "              \"max_depth\":[3,5,8],\n",
        "              \"max_features\":[\"log2\",\"sqrt\",\"auto\"],\n",
        "              \"criterion\": [\"friedman_mse\",  \"mae\"],\n",
        "              \"n_estimators\":[10]} # create a dictionary of all values of n_neighbors\n",
        "\n",
        "# use gridsearch to test all values for n_neighbors\n",
        "model_gscv = GridSearchCV(model, param_grid, cv=10, verbose=0)# 10-fold cv\n",
        "model_gscv.fit(x_train, y_train) # fit model to data\n",
        "print('Accuracy: ', model_gscv.best_score_)\n",
        "print('Best estimator: ', model_gscv.best_estimator_)\n",
        "log_time = (time.time() - start_time)\n",
        "print(\"Running Time: %s\" % datetime.timedelta(seconds=log_time))\n",
        "\n",
        "gradientboost_acc = model_gscv.best_score_\n",
        "gradientboost_model_best = model_gscv.best_estimator_"
      ],
      "execution_count": 183,
      "outputs": [
        {
          "output_type": "stream",
          "text": [
            "Accuracy:  0.8182272159800249\n",
            "Best estimator:  GradientBoostingClassifier(ccp_alpha=0.0, criterion='mae', init=None,\n",
            "                           learning_rate=0.075, loss='deviance', max_depth=8,\n",
            "                           max_features='auto', max_leaf_nodes=None,\n",
            "                           min_impurity_decrease=0.0, min_impurity_split=None,\n",
            "                           min_samples_leaf=1, min_samples_split=2,\n",
            "                           min_weight_fraction_leaf=0.0, n_estimators=10,\n",
            "                           n_iter_no_change=None, presort='deprecated',\n",
            "                           random_state=42, subsample=1.0, tol=0.0001,\n",
            "                           validation_fraction=0.1, verbose=0,\n",
            "                           warm_start=False)\n",
            "Running Time: 0:01:09.800515\n"
          ],
          "name": "stdout"
        }
      ]
    },
    {
      "cell_type": "markdown",
      "metadata": {
        "id": "k6Z6krVuW7rz"
      },
      "source": [
        "**CatBoost**"
      ]
    },
    {
      "cell_type": "code",
      "metadata": {
        "colab": {
          "base_uri": "https://localhost:8080/"
        },
        "id": "AscL1qxlodcn",
        "outputId": "486c4b6a-107c-481f-a92e-3a91e57725f8"
      },
      "source": [
        "start_time = time.time()\n",
        "\n",
        "train_pool = Pool(x_train, y_train)\n",
        "\n",
        "# define the model\n",
        "model = CatBoostClassifier(iterations=1000, \n",
        "                           task_type=\"GPU\",\n",
        "                           devices='0:1',\n",
        "                           custom_loss=['Accuracy'],\n",
        "                           loss_function='Logloss')\n",
        "# fit the model\n",
        "model.fit(train_pool,verbose=False)\n",
        "\n",
        "log_time = (time.time() - start_time)\n",
        "print(\"Running Time: %s\" % datetime.timedelta(seconds=log_time))"
      ],
      "execution_count": 184,
      "outputs": [
        {
          "output_type": "stream",
          "text": [
            "Running Time: 0:00:17.766984\n"
          ],
          "name": "stdout"
        }
      ]
    },
    {
      "cell_type": "code",
      "metadata": {
        "colab": {
          "base_uri": "https://localhost:8080/"
        },
        "id": "hd0rUx6Pqxzj",
        "outputId": "e0cee0c7-1df7-4c09-e88c-c4a08978c602"
      },
      "source": [
        "start_time = time.time()\n",
        "\n",
        "cv_params = model.get_params()\n",
        "cv_data = cv(train_pool,\n",
        "             cv_params,\n",
        "             fold_count=10, verbose=False)\n",
        "\n",
        "log_time = (time.time() - start_time)\n",
        "print(\"Running Time: %s\" % datetime.timedelta(seconds=log_time))"
      ],
      "execution_count": 185,
      "outputs": [
        {
          "output_type": "stream",
          "text": [
            "Running Time: 0:20:25.525063\n"
          ],
          "name": "stdout"
        }
      ]
    },
    {
      "cell_type": "code",
      "metadata": {
        "colab": {
          "base_uri": "https://localhost:8080/"
        },
        "id": "KwU5Nx4VMRep",
        "outputId": "fe30ec4e-0563-437b-8af3-4a6ee766e6aa"
      },
      "source": [
        "print('Accuracy: ', cv_data['test-Accuracy-mean'].max())\n",
        "catboost_acc = cv_data['test-Accuracy-mean'].max()\n",
        "catboost_model_best = model\n",
        "print(catboost_model_best.get_params())"
      ],
      "execution_count": 186,
      "outputs": [
        {
          "output_type": "stream",
          "text": [
            "Accuracy:  0.8137787992282377\n",
            "{'iterations': 1000, 'loss_function': 'Logloss', 'custom_loss': ['Accuracy'], 'task_type': 'GPU', 'devices': '0:1'}\n"
          ],
          "name": "stdout"
        }
      ]
    },
    {
      "cell_type": "markdown",
      "metadata": {
        "id": "AyP1jUm8NXbc"
      },
      "source": [
        "# Best Model"
      ]
    },
    {
      "cell_type": "code",
      "metadata": {
        "colab": {
          "base_uri": "https://localhost:8080/"
        },
        "id": "UoySU2GjNaz8",
        "outputId": "738fb3ed-4b76-4b3a-da18-005786a717d1"
      },
      "source": [
        "compare = pd.DataFrame({'Results_acc': [knn_acc, logistic_acc, decisiontree_acc, \n",
        "                                        randomforest_acc, gradientboost_acc, catboost_acc],\n",
        "                        'Model': ['KNN', 'LOG','DT', 'RF', 'GB','CB']}).set_index('Model')\n",
        "print(compare.sort_values(by = 'Results_acc', ascending=False))"
      ],
      "execution_count": 187,
      "outputs": [
        {
          "output_type": "stream",
          "text": [
            "       Results_acc\n",
            "Model             \n",
            "GB        0.818227\n",
            "RF        0.814844\n",
            "CB        0.813779\n",
            "DT        0.813720\n",
            "KNN       0.806979\n",
            "LOG       0.794644\n"
          ],
          "name": "stdout"
        }
      ]
    },
    {
      "cell_type": "code",
      "metadata": {
        "colab": {
          "base_uri": "https://localhost:8080/",
          "height": 444
        },
        "id": "oFZpjdzkRkTq",
        "outputId": "2934d305-7687-4f1a-e15f-346df256866b"
      },
      "source": [
        "fea_imp = pd.DataFrame({'important': decisiontree_model_best.feature_importances_, 'col': x_train.columns})\n",
        "fea_imp = fea_imp.sort_values(['important', 'col'], ascending=[True, True])\n",
        "_ = fea_imp.plot(kind='barh', x='col', y='important', figsize=(15,7),title='Decision Tree')"
      ],
      "execution_count": 188,
      "outputs": [
        {
          "output_type": "display_data",
          "data": {
            "image/png": "[encoded data removed]",
            "text/plain": [
              "<Figure size 1080x504 with 1 Axes>"
            ]
          },
          "metadata": {
            "tags": [],
            "needs_background": "light"
          }
        }
      ]
    },
    {
      "cell_type": "code",
      "metadata": {
        "colab": {
          "base_uri": "https://localhost:8080/",
          "height": 444
        },
        "id": "wi6Xprk8kW86",
        "outputId": "804d0643-7bd8-4153-96cb-40d6b45afc44"
      },
      "source": [
        "fea_imp = pd.DataFrame({'important': randomforest_model_best.feature_importances_, 'col': x_train.columns})\n",
        "fea_imp = fea_imp.sort_values(['important', 'col'], ascending=[True, True])\n",
        "_ = fea_imp.plot(kind='barh', x='col', y='important', figsize=(15,7), title='CatBoost')"
      ],
      "execution_count": 222,
      "outputs": [
        {
          "output_type": "display_data",
          "data": {
            "image/png": "[encoded data removed]",
            "text/plain": [
              "<Figure size 1080x504 with 1 Axes>"
            ]
          },
          "metadata": {
            "tags": [],
            "needs_background": "light"
          }
        }
      ]
    },
    {
      "cell_type": "code",
      "metadata": {
        "colab": {
          "base_uri": "https://localhost:8080/",
          "height": 444
        },
        "id": "_qKgRmMFRhDd",
        "outputId": "7840226e-f447-4a4c-8840-84b4c0a5189c"
      },
      "source": [
        "fea_imp = pd.DataFrame({'important': gradientboost_model_best.feature_importances_, 'col': x_train.columns})\n",
        "fea_imp = fea_imp.sort_values(['important', 'col'], ascending=[True, True])\n",
        "_ = fea_imp.plot(kind='barh', x='col', y='important', figsize=(15,7), title='GradientBoost')"
      ],
      "execution_count": 189,
      "outputs": [
        {
          "output_type": "display_data",
          "data": {
            "image/png": "[encoded data removed]",
            "text/plain": [
              "<Figure size 1080x504 with 1 Axes>"
            ]
          },
          "metadata": {
            "tags": [],
            "needs_background": "light"
          }
        }
      ]
    },
    {
      "cell_type": "code",
      "metadata": {
        "colab": {
          "base_uri": "https://localhost:8080/",
          "height": 444
        },
        "id": "j62Dx70BRCcE",
        "outputId": "375a1013-1eb0-4a7d-b541-046e5a6996b7"
      },
      "source": [
        "fea_imp = pd.DataFrame({'important': catboost_model_best.feature_importances_, 'col': x_train.columns})\n",
        "fea_imp = fea_imp.sort_values(['important', 'col'], ascending=[True, True])\n",
        "_ = fea_imp.plot(kind='barh', x='col', y='important', figsize=(15,7), title='CatBoost')"
      ],
      "execution_count": 190,
      "outputs": [
        {
          "output_type": "display_data",
          "data": {
            "image/png": "[encoded data removed]",
            "text/plain": [
              "<Figure size 1080x504 with 1 Axes>"
            ]
          },
          "metadata": {
            "tags": [],
            "needs_background": "light"
          }
        }
      ]
    },
    {
      "cell_type": "markdown",
      "metadata": {
        "id": "6oASXMK2SMKn"
      },
      "source": [
        "Featrue importance shows how much each feature contributed to the model.\n",
        "\n",
        "We could take this information and remove features which don't contribute much to reduce dimenstionality (and save compute).\n",
        "\n",
        "Or we could improve features which offer more to the model. In this case, there aren't many ways you could improve sex as it's already a binary.\n",
        "\n",
        "Feature importance figures also show what features of their data are most important when it comes to making predictions with machine learning models."
      ]
    },
    {
      "cell_type": "code",
      "metadata": {
        "colab": {
          "base_uri": "https://localhost:8080/"
        },
        "id": "4tqw02gzShcc",
        "outputId": "b88eed06-6272-4a78-9e8c-0de85f311ebc"
      },
      "source": [
        "eval = catboost_model_best.eval_metrics(train_pool,metrics = ['Precision', 'Recall', 'F1', 'AUC'])\n",
        "\n",
        "metrics = ['Precision', 'Recall', 'F1', 'AUC']\n",
        "for metric in metrics:\n",
        "  print(metric+': {}'.format(np.max(eval[metric])))"
      ],
      "execution_count": 191,
      "outputs": [
        {
          "output_type": "stream",
          "text": [
            "Precision: 0.9113300492610837\n",
            "Recall: 0.7397660818713451\n",
            "F1: 0.7881619937694704\n",
            "AUC: 0.9004836012313723\n"
          ],
          "name": "stdout"
        }
      ]
    },
    {
      "cell_type": "code",
      "metadata": {
        "colab": {
          "base_uri": "https://localhost:8080/"
        },
        "id": "Ce7uzEUijbZ2",
        "outputId": "df387aa4-bf79-4763-fce8-feed4cd8c80b"
      },
      "source": [
        "joblib.dump(catboost_model_best, '/content/drive/My Drive/personal_project/titanic/model/catboost.pkl') # Save Model"
      ],
      "execution_count": 219,
      "outputs": [
        {
          "output_type": "execute_result",
          "data": {
            "text/plain": [
              "['/content/drive/My Drive/personal_project/titanic/catboost.pkl']"
            ]
          },
          "metadata": {
            "tags": []
          },
          "execution_count": 219
        }
      ]
    },
    {
      "cell_type": "markdown",
      "metadata": {
        "id": "KkMA1poZUc63"
      },
      "source": [
        "# Preprocessing on Test Set"
      ]
    },
    {
      "cell_type": "code",
      "metadata": {
        "colab": {
          "base_uri": "https://localhost:8080/",
          "height": 197
        },
        "id": "Oa1T1MEiUfU0",
        "outputId": "e6416157-e89a-4bad-bfd6-1f38c3b67d67"
      },
      "source": [
        "test = pd.read_csv('/content/drive/My Drive/personal_project/titanic/test.csv')\n",
        "test.head()"
      ],
      "execution_count": 231,
      "outputs": [
        {
          "output_type": "execute_result",
          "data": {
            "text/html": [
              "<div>\n",
              "<style scoped>\n",
              "    .dataframe tbody tr th:only-of-type {\n",
              "        vertical-align: middle;\n",
              "    }\n",
              "\n",
              "    .dataframe tbody tr th {\n",
              "        vertical-align: top;\n",
              "    }\n",
              "\n",
              "    .dataframe thead th {\n",
              "        text-align: right;\n",
              "    }\n",
              "</style>\n",
              "<table border=\"1\" class=\"dataframe\">\n",
              "  <thead>\n",
              "    <tr style=\"text-align: right;\">\n",
              "      <th></th>\n",
              "      <th>PassengerId</th>\n",
              "      <th>Pclass</th>\n",
              "      <th>Name</th>\n",
              "      <th>Sex</th>\n",
              "      <th>Age</th>\n",
              "      <th>SibSp</th>\n",
              "      <th>Parch</th>\n",
              "      <th>Ticket</th>\n",
              "      <th>Fare</th>\n",
              "      <th>Cabin</th>\n",
              "      <th>Embarked</th>\n",
              "    </tr>\n",
              "  </thead>\n",
              "  <tbody>\n",
              "    <tr>\n",
              "      <th>0</th>\n",
              "      <td>892</td>\n",
              "      <td>3</td>\n",
              "      <td>Kelly, Mr. James</td>\n",
              "      <td>male</td>\n",
              "      <td>34.5</td>\n",
              "      <td>0</td>\n",
              "      <td>0</td>\n",
              "      <td>330911</td>\n",
              "      <td>7.8292</td>\n",
              "      <td>NaN</td>\n",
              "      <td>Q</td>\n",
              "    </tr>\n",
              "    <tr>\n",
              "      <th>1</th>\n",
              "      <td>893</td>\n",
              "      <td>3</td>\n",
              "      <td>Wilkes, Mrs. James (Ellen Needs)</td>\n",
              "      <td>female</td>\n",
              "      <td>47.0</td>\n",
              "      <td>1</td>\n",
              "      <td>0</td>\n",
              "      <td>363272</td>\n",
              "      <td>7.0000</td>\n",
              "      <td>NaN</td>\n",
              "      <td>S</td>\n",
              "    </tr>\n",
              "    <tr>\n",
              "      <th>2</th>\n",
              "      <td>894</td>\n",
              "      <td>2</td>\n",
              "      <td>Myles, Mr. Thomas Francis</td>\n",
              "      <td>male</td>\n",
              "      <td>62.0</td>\n",
              "      <td>0</td>\n",
              "      <td>0</td>\n",
              "      <td>240276</td>\n",
              "      <td>9.6875</td>\n",
              "      <td>NaN</td>\n",
              "      <td>Q</td>\n",
              "    </tr>\n",
              "    <tr>\n",
              "      <th>3</th>\n",
              "      <td>895</td>\n",
              "      <td>3</td>\n",
              "      <td>Wirz, Mr. Albert</td>\n",
              "      <td>male</td>\n",
              "      <td>27.0</td>\n",
              "      <td>0</td>\n",
              "      <td>0</td>\n",
              "      <td>315154</td>\n",
              "      <td>8.6625</td>\n",
              "      <td>NaN</td>\n",
              "      <td>S</td>\n",
              "    </tr>\n",
              "    <tr>\n",
              "      <th>4</th>\n",
              "      <td>896</td>\n",
              "      <td>3</td>\n",
              "      <td>Hirvonen, Mrs. Alexander (Helga E Lindqvist)</td>\n",
              "      <td>female</td>\n",
              "      <td>22.0</td>\n",
              "      <td>1</td>\n",
              "      <td>1</td>\n",
              "      <td>3101298</td>\n",
              "      <td>12.2875</td>\n",
              "      <td>NaN</td>\n",
              "      <td>S</td>\n",
              "    </tr>\n",
              "  </tbody>\n",
              "</table>\n",
              "</div>"
            ],
            "text/plain": [
              "   PassengerId  Pclass  ... Cabin Embarked\n",
              "0          892       3  ...   NaN        Q\n",
              "1          893       3  ...   NaN        S\n",
              "2          894       2  ...   NaN        Q\n",
              "3          895       3  ...   NaN        S\n",
              "4          896       3  ...   NaN        S\n",
              "\n",
              "[5 rows x 11 columns]"
            ]
          },
          "metadata": {
            "tags": []
          },
          "execution_count": 231
        }
      ]
    },
    {
      "cell_type": "code",
      "metadata": {
        "colab": {
          "base_uri": "https://localhost:8080/",
          "height": 197
        },
        "id": "I73g7p2CUlRy",
        "outputId": "b1e2ab6c-fc86-4ba1-f033-b1f954380893"
      },
      "source": [
        "test = test[train.drop(['Survived'],axis=1).columns]\n",
        "test.head()"
      ],
      "execution_count": 239,
      "outputs": [
        {
          "output_type": "execute_result",
          "data": {
            "text/html": [
              "<div>\n",
              "<style scoped>\n",
              "    .dataframe tbody tr th:only-of-type {\n",
              "        vertical-align: middle;\n",
              "    }\n",
              "\n",
              "    .dataframe tbody tr th {\n",
              "        vertical-align: top;\n",
              "    }\n",
              "\n",
              "    .dataframe thead th {\n",
              "        text-align: right;\n",
              "    }\n",
              "</style>\n",
              "<table border=\"1\" class=\"dataframe\">\n",
              "  <thead>\n",
              "    <tr style=\"text-align: right;\">\n",
              "      <th></th>\n",
              "      <th>PassengerId</th>\n",
              "      <th>Pclass</th>\n",
              "      <th>Sex</th>\n",
              "      <th>Age</th>\n",
              "      <th>SibSp</th>\n",
              "      <th>Parch</th>\n",
              "      <th>Fare</th>\n",
              "      <th>Embarked</th>\n",
              "    </tr>\n",
              "  </thead>\n",
              "  <tbody>\n",
              "    <tr>\n",
              "      <th>0</th>\n",
              "      <td>892</td>\n",
              "      <td>3</td>\n",
              "      <td>male</td>\n",
              "      <td>34.5</td>\n",
              "      <td>0</td>\n",
              "      <td>0</td>\n",
              "      <td>7.8292</td>\n",
              "      <td>Q</td>\n",
              "    </tr>\n",
              "    <tr>\n",
              "      <th>1</th>\n",
              "      <td>893</td>\n",
              "      <td>3</td>\n",
              "      <td>female</td>\n",
              "      <td>47.0</td>\n",
              "      <td>1</td>\n",
              "      <td>0</td>\n",
              "      <td>7.0000</td>\n",
              "      <td>S</td>\n",
              "    </tr>\n",
              "    <tr>\n",
              "      <th>2</th>\n",
              "      <td>894</td>\n",
              "      <td>2</td>\n",
              "      <td>male</td>\n",
              "      <td>62.0</td>\n",
              "      <td>0</td>\n",
              "      <td>0</td>\n",
              "      <td>9.6875</td>\n",
              "      <td>Q</td>\n",
              "    </tr>\n",
              "    <tr>\n",
              "      <th>3</th>\n",
              "      <td>895</td>\n",
              "      <td>3</td>\n",
              "      <td>male</td>\n",
              "      <td>27.0</td>\n",
              "      <td>0</td>\n",
              "      <td>0</td>\n",
              "      <td>8.6625</td>\n",
              "      <td>S</td>\n",
              "    </tr>\n",
              "    <tr>\n",
              "      <th>4</th>\n",
              "      <td>896</td>\n",
              "      <td>3</td>\n",
              "      <td>female</td>\n",
              "      <td>22.0</td>\n",
              "      <td>1</td>\n",
              "      <td>1</td>\n",
              "      <td>12.2875</td>\n",
              "      <td>S</td>\n",
              "    </tr>\n",
              "  </tbody>\n",
              "</table>\n",
              "</div>"
            ],
            "text/plain": [
              "   PassengerId  Pclass     Sex   Age  SibSp  Parch     Fare Embarked\n",
              "0          892       3    male  34.5      0      0   7.8292        Q\n",
              "1          893       3  female  47.0      1      0   7.0000        S\n",
              "2          894       2    male  62.0      0      0   9.6875        Q\n",
              "3          895       3    male  27.0      0      0   8.6625        S\n",
              "4          896       3  female  22.0      1      1  12.2875        S"
            ]
          },
          "metadata": {
            "tags": []
          },
          "execution_count": 239
        }
      ]
    },
    {
      "cell_type": "markdown",
      "metadata": {
        "id": "cNXsCW-9u5T0"
      },
      "source": [
        "**Test Continuous**"
      ]
    },
    {
      "cell_type": "code",
      "metadata": {
        "colab": {
          "base_uri": "https://localhost:8080/",
          "height": 197
        },
        "id": "aA_7HCj5u7GZ",
        "outputId": "27432cde-5a5c-4438-eac6-943c37fda34d"
      },
      "source": [
        "sex_onehot = pd.get_dummies(test.Sex, prefix='Sex')\n",
        "embarked_onehot = pd.get_dummies(test.Embarked, prefix='Embarked')\n",
        "\n",
        "test_con = pd.concat([test,sex_onehot,embarked_onehot], axis=1)\n",
        "test_con = test_con.drop(['Sex','Embarked','PassengerId'],axis=1)\n",
        "test_con.head()"
      ],
      "execution_count": 240,
      "outputs": [
        {
          "output_type": "execute_result",
          "data": {
            "text/html": [
              "<div>\n",
              "<style scoped>\n",
              "    .dataframe tbody tr th:only-of-type {\n",
              "        vertical-align: middle;\n",
              "    }\n",
              "\n",
              "    .dataframe tbody tr th {\n",
              "        vertical-align: top;\n",
              "    }\n",
              "\n",
              "    .dataframe thead th {\n",
              "        text-align: right;\n",
              "    }\n",
              "</style>\n",
              "<table border=\"1\" class=\"dataframe\">\n",
              "  <thead>\n",
              "    <tr style=\"text-align: right;\">\n",
              "      <th></th>\n",
              "      <th>Pclass</th>\n",
              "      <th>Age</th>\n",
              "      <th>SibSp</th>\n",
              "      <th>Parch</th>\n",
              "      <th>Fare</th>\n",
              "      <th>Sex_female</th>\n",
              "      <th>Sex_male</th>\n",
              "      <th>Embarked_C</th>\n",
              "      <th>Embarked_Q</th>\n",
              "      <th>Embarked_S</th>\n",
              "    </tr>\n",
              "  </thead>\n",
              "  <tbody>\n",
              "    <tr>\n",
              "      <th>0</th>\n",
              "      <td>3</td>\n",
              "      <td>34.5</td>\n",
              "      <td>0</td>\n",
              "      <td>0</td>\n",
              "      <td>7.8292</td>\n",
              "      <td>0</td>\n",
              "      <td>1</td>\n",
              "      <td>0</td>\n",
              "      <td>1</td>\n",
              "      <td>0</td>\n",
              "    </tr>\n",
              "    <tr>\n",
              "      <th>1</th>\n",
              "      <td>3</td>\n",
              "      <td>47.0</td>\n",
              "      <td>1</td>\n",
              "      <td>0</td>\n",
              "      <td>7.0000</td>\n",
              "      <td>1</td>\n",
              "      <td>0</td>\n",
              "      <td>0</td>\n",
              "      <td>0</td>\n",
              "      <td>1</td>\n",
              "    </tr>\n",
              "    <tr>\n",
              "      <th>2</th>\n",
              "      <td>2</td>\n",
              "      <td>62.0</td>\n",
              "      <td>0</td>\n",
              "      <td>0</td>\n",
              "      <td>9.6875</td>\n",
              "      <td>0</td>\n",
              "      <td>1</td>\n",
              "      <td>0</td>\n",
              "      <td>1</td>\n",
              "      <td>0</td>\n",
              "    </tr>\n",
              "    <tr>\n",
              "      <th>3</th>\n",
              "      <td>3</td>\n",
              "      <td>27.0</td>\n",
              "      <td>0</td>\n",
              "      <td>0</td>\n",
              "      <td>8.6625</td>\n",
              "      <td>0</td>\n",
              "      <td>1</td>\n",
              "      <td>0</td>\n",
              "      <td>0</td>\n",
              "      <td>1</td>\n",
              "    </tr>\n",
              "    <tr>\n",
              "      <th>4</th>\n",
              "      <td>3</td>\n",
              "      <td>22.0</td>\n",
              "      <td>1</td>\n",
              "      <td>1</td>\n",
              "      <td>12.2875</td>\n",
              "      <td>1</td>\n",
              "      <td>0</td>\n",
              "      <td>0</td>\n",
              "      <td>0</td>\n",
              "      <td>1</td>\n",
              "    </tr>\n",
              "  </tbody>\n",
              "</table>\n",
              "</div>"
            ],
            "text/plain": [
              "   Pclass   Age  SibSp  Parch  ...  Sex_male  Embarked_C  Embarked_Q  Embarked_S\n",
              "0       3  34.5      0      0  ...         1           0           1           0\n",
              "1       3  47.0      1      0  ...         0           0           0           1\n",
              "2       2  62.0      0      0  ...         1           0           1           0\n",
              "3       3  27.0      0      0  ...         1           0           0           1\n",
              "4       3  22.0      1      1  ...         0           0           0           1\n",
              "\n",
              "[5 rows x 10 columns]"
            ]
          },
          "metadata": {
            "tags": []
          },
          "execution_count": 240
        }
      ]
    },
    {
      "cell_type": "markdown",
      "metadata": {
        "id": "4EgzLfI9WyZE"
      },
      "source": [
        "**Test Discrete**"
      ]
    },
    {
      "cell_type": "code",
      "metadata": {
        "colab": {
          "base_uri": "https://localhost:8080/"
        },
        "id": "aVWKAoJFWdia",
        "outputId": "3ffdb234-806c-4e39-c5d3-942050921867"
      },
      "source": [
        "bin_age = [0, 20, 40, 60, 80, 100]\n",
        "dis_age = pd.cut(train['Age'], bins=bin_age) # discretised\n",
        "print(dis_age.value_counts())\n",
        "bin_fare = [-1, 100, 200, 300, 400, 500]\n",
        "dis_fare = pd.cut(train['Fare'], bins=bin_fare) # discretised\n",
        "print('')\n",
        "print(dis_fare.value_counts())\n",
        "test_d = test.copy()\n",
        "test_d['Fare'] = dis_fare\n",
        "test_d['Age'] = dis_age"
      ],
      "execution_count": 203,
      "outputs": [
        {
          "output_type": "stream",
          "text": [
            "(20, 40]     562\n",
            "(0, 20]      179\n",
            "(40, 60]     128\n",
            "(60, 80]      22\n",
            "(80, 100]      0\n",
            "Name: Age, dtype: int64\n",
            "\n",
            "(-1, 100]     838\n",
            "(100, 200]     33\n",
            "(200, 300]     17\n",
            "(400, 500]      0\n",
            "(300, 400]      0\n",
            "Name: Fare, dtype: int64\n"
          ],
          "name": "stdout"
        }
      ]
    },
    {
      "cell_type": "code",
      "metadata": {
        "colab": {
          "base_uri": "https://localhost:8080/",
          "height": 234
        },
        "id": "gO9bOM6xWf0i",
        "outputId": "9b707fb1-7c62-4f07-ca48-ca86a49b8612"
      },
      "source": [
        "sex_onehot = pd.get_dummies(test_d.Sex, prefix='Sex')\n",
        "embarked_onehot = pd.get_dummies(test_d.Embarked, prefix='Embarked')\n",
        "fare_onehot = pd.get_dummies(test_d.Fare, prefix='Fare')\n",
        "age_onehot = pd.get_dummies(test_d.Age, prefix='Age')\n",
        "\n",
        "test_dis = pd.concat([test_d,sex_onehot,embarked_onehot,age_onehot,fare_onehot], axis=1)\n",
        "test_dis = test_dis.drop(['Sex','Embarked','Fare','Age','PassengerId'],axis=1)\n",
        "test_dis.head()"
      ],
      "execution_count": 204,
      "outputs": [
        {
          "output_type": "execute_result",
          "data": {
            "text/html": [
              "<div>\n",
              "<style scoped>\n",
              "    .dataframe tbody tr th:only-of-type {\n",
              "        vertical-align: middle;\n",
              "    }\n",
              "\n",
              "    .dataframe tbody tr th {\n",
              "        vertical-align: top;\n",
              "    }\n",
              "\n",
              "    .dataframe thead th {\n",
              "        text-align: right;\n",
              "    }\n",
              "</style>\n",
              "<table border=\"1\" class=\"dataframe\">\n",
              "  <thead>\n",
              "    <tr style=\"text-align: right;\">\n",
              "      <th></th>\n",
              "      <th>Pclass</th>\n",
              "      <th>SibSp</th>\n",
              "      <th>Parch</th>\n",
              "      <th>Sex_female</th>\n",
              "      <th>Sex_male</th>\n",
              "      <th>Embarked_C</th>\n",
              "      <th>Embarked_Q</th>\n",
              "      <th>Embarked_S</th>\n",
              "      <th>Age_(0, 20]</th>\n",
              "      <th>Age_(20, 40]</th>\n",
              "      <th>Age_(40, 60]</th>\n",
              "      <th>Age_(60, 80]</th>\n",
              "      <th>Age_(80, 100]</th>\n",
              "      <th>Fare_(-1, 100]</th>\n",
              "      <th>Fare_(100, 200]</th>\n",
              "      <th>Fare_(200, 300]</th>\n",
              "      <th>Fare_(300, 400]</th>\n",
              "      <th>Fare_(400, 500]</th>\n",
              "    </tr>\n",
              "  </thead>\n",
              "  <tbody>\n",
              "    <tr>\n",
              "      <th>0</th>\n",
              "      <td>3</td>\n",
              "      <td>0</td>\n",
              "      <td>0</td>\n",
              "      <td>0</td>\n",
              "      <td>1</td>\n",
              "      <td>0</td>\n",
              "      <td>1</td>\n",
              "      <td>0</td>\n",
              "      <td>0</td>\n",
              "      <td>1</td>\n",
              "      <td>0</td>\n",
              "      <td>0</td>\n",
              "      <td>0</td>\n",
              "      <td>1</td>\n",
              "      <td>0</td>\n",
              "      <td>0</td>\n",
              "      <td>0</td>\n",
              "      <td>0</td>\n",
              "    </tr>\n",
              "    <tr>\n",
              "      <th>1</th>\n",
              "      <td>3</td>\n",
              "      <td>1</td>\n",
              "      <td>0</td>\n",
              "      <td>1</td>\n",
              "      <td>0</td>\n",
              "      <td>0</td>\n",
              "      <td>0</td>\n",
              "      <td>1</td>\n",
              "      <td>0</td>\n",
              "      <td>1</td>\n",
              "      <td>0</td>\n",
              "      <td>0</td>\n",
              "      <td>0</td>\n",
              "      <td>1</td>\n",
              "      <td>0</td>\n",
              "      <td>0</td>\n",
              "      <td>0</td>\n",
              "      <td>0</td>\n",
              "    </tr>\n",
              "    <tr>\n",
              "      <th>2</th>\n",
              "      <td>2</td>\n",
              "      <td>0</td>\n",
              "      <td>0</td>\n",
              "      <td>0</td>\n",
              "      <td>1</td>\n",
              "      <td>0</td>\n",
              "      <td>1</td>\n",
              "      <td>0</td>\n",
              "      <td>0</td>\n",
              "      <td>1</td>\n",
              "      <td>0</td>\n",
              "      <td>0</td>\n",
              "      <td>0</td>\n",
              "      <td>1</td>\n",
              "      <td>0</td>\n",
              "      <td>0</td>\n",
              "      <td>0</td>\n",
              "      <td>0</td>\n",
              "    </tr>\n",
              "    <tr>\n",
              "      <th>3</th>\n",
              "      <td>3</td>\n",
              "      <td>0</td>\n",
              "      <td>0</td>\n",
              "      <td>0</td>\n",
              "      <td>1</td>\n",
              "      <td>0</td>\n",
              "      <td>0</td>\n",
              "      <td>1</td>\n",
              "      <td>0</td>\n",
              "      <td>1</td>\n",
              "      <td>0</td>\n",
              "      <td>0</td>\n",
              "      <td>0</td>\n",
              "      <td>1</td>\n",
              "      <td>0</td>\n",
              "      <td>0</td>\n",
              "      <td>0</td>\n",
              "      <td>0</td>\n",
              "    </tr>\n",
              "    <tr>\n",
              "      <th>4</th>\n",
              "      <td>3</td>\n",
              "      <td>1</td>\n",
              "      <td>1</td>\n",
              "      <td>1</td>\n",
              "      <td>0</td>\n",
              "      <td>0</td>\n",
              "      <td>0</td>\n",
              "      <td>1</td>\n",
              "      <td>0</td>\n",
              "      <td>1</td>\n",
              "      <td>0</td>\n",
              "      <td>0</td>\n",
              "      <td>0</td>\n",
              "      <td>1</td>\n",
              "      <td>0</td>\n",
              "      <td>0</td>\n",
              "      <td>0</td>\n",
              "      <td>0</td>\n",
              "    </tr>\n",
              "  </tbody>\n",
              "</table>\n",
              "</div>"
            ],
            "text/plain": [
              "   Pclass  SibSp  Parch  ...  Fare_(200, 300]  Fare_(300, 400]  Fare_(400, 500]\n",
              "0       3      0      0  ...                0                0                0\n",
              "1       3      1      0  ...                0                0                0\n",
              "2       2      0      0  ...                0                0                0\n",
              "3       3      0      0  ...                0                0                0\n",
              "4       3      1      1  ...                0                0                0\n",
              "\n",
              "[5 rows x 18 columns]"
            ]
          },
          "metadata": {
            "tags": []
          },
          "execution_count": 204
        }
      ]
    },
    {
      "cell_type": "markdown",
      "metadata": {
        "id": "MyFqROpDhrof"
      },
      "source": [
        "# Predictions"
      ]
    },
    {
      "cell_type": "code",
      "metadata": {
        "colab": {
          "base_uri": "https://localhost:8080/"
        },
        "id": "8sdKTS-6W3S4",
        "outputId": "bd74dde6-765c-4822-c86e-b124775a424f"
      },
      "source": [
        "catboost_model = joblib.load('/content/drive/My Drive/personal_project/titanic/model/catboost.pkl') # Load Model\n",
        "\n",
        "predictions = catboost_model_best.predict(test_dis) # test_dis or test_con\n",
        "# print(predictions)\n",
        "# print('')\n",
        "submission = pd.DataFrame()\n",
        "submission['PassengerId'] = test['PassengerId']\n",
        "submission['Survived'] = predictions.astype(int) # our model predictions on the test dataset\n",
        "print(submission)"
      ],
      "execution_count": 232,
      "outputs": [
        {
          "output_type": "stream",
          "text": [
            "     PassengerId  Survived\n",
            "0            892         0\n",
            "1            893         0\n",
            "2            894         0\n",
            "3            895         0\n",
            "4            896         0\n",
            "..           ...       ...\n",
            "413         1305         0\n",
            "414         1306         1\n",
            "415         1307         0\n",
            "416         1308         0\n",
            "417         1309         1\n",
            "\n",
            "[418 rows x 2 columns]\n"
          ],
          "name": "stdout"
        }
      ]
    },
    {
      "cell_type": "code",
      "metadata": {
        "id": "IwB6FloGhnxW"
      },
      "source": [
        "submission.to_csv('/content/drive/My Drive/personal_project/titanic/final_submission/submission_cat.csv', \n",
        "                  index = False) # save predictions"
      ],
      "execution_count": 230,
      "outputs": []
    }
  ]
}